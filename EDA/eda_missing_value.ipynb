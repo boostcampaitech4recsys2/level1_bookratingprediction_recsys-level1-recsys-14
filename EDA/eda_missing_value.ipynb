{
 "cells": [
  {
   "cell_type": "code",
   "execution_count": 29,
   "metadata": {},
   "outputs": [],
   "source": [
    "#import data\n",
    "import pandas as pd\n",
    "import numpy as np\n",
    "import seaborn as sns\n",
    "import matplotlib.pyplot as plt\n",
    "\n",
    "books = pd.read_csv(\"/opt/ml/input/code/data/books.csv\")\n",
    "users = pd.read_csv(\"/opt/ml/input/code/data/users.csv\") # books.drop(['img_url', 'img_path'], axis = 1, inplace = True)\n",
    "\n",
    "isbns = pd.read_csv(\"/opt/ml/input/code/data/isbn_country.csv\")"
   ]
  },
  {
   "cell_type": "markdown",
   "metadata": {},
   "source": [
    "## Users 결측치"
   ]
  },
  {
   "cell_type": "markdown",
   "metadata": {},
   "source": [
    "### Users location 세분화"
   ]
  },
  {
   "cell_type": "code",
   "execution_count": 23,
   "metadata": {
    "slideshow": {
     "slide_type": "slide"
    }
   },
   "outputs": [
    {
     "name": "stderr",
     "output_type": "stream",
     "text": [
      "/tmp/ipykernel_49212/2406416191.py:3: FutureWarning: The default value of regex will change from True to False in a future version.\n",
      "  users['location'] = users['location'].str.replace(r'[^0-9a-zA-Z:,]', '') # 특수문자 제거\n"
     ]
    }
   ],
   "source": [
    "# users 결측치\n",
    "### location 세분화 -> city, state, county 로\n",
    "users['location'] = users['location'].str.replace(r'[^0-9a-zA-Z:,]', '') # 특수문자 제거\n",
    "\n",
    "users['location_city'] = users['location'].apply(lambda x: x.split(',')[0].strip())\n",
    "users['location_state'] = users['location'].apply(lambda x: x.split(',')[1].strip())\n",
    "users['location_country'] = users['location'].apply(lambda x: x.split(',')[2].strip())\n",
    "\n",
    "users = users.replace('na', np.nan) #특수문자 제거로 n/a가 na로 바뀌게 되었습니다. 따라서 이를 컴퓨터가 인식할 수 있는 결측값으로 변환합니다.\n",
    "users = users.replace('', np.nan) # 일부 경우 , , ,으로 입력된 경우가 있었으므로 이런 경우에도 결측값으로 변환합니다.\n",
    "###"
   ]
  },
  {
   "cell_type": "markdown",
   "metadata": {},
   "source": [
    "### Users location city만 있는 경우 처리"
   ]
  },
  {
   "cell_type": "code",
   "execution_count": 24,
   "metadata": {},
   "outputs": [
    {
     "ename": "KeyboardInterrupt",
     "evalue": "",
     "output_type": "error",
     "traceback": [
      "\u001b[0;31m---------------------------------------------------------------------------\u001b[0m",
      "\u001b[0;31mKeyboardInterrupt\u001b[0m                         Traceback (most recent call last)",
      "Cell \u001b[0;32mIn [24], line 16\u001b[0m\n\u001b[1;32m     14\u001b[0m \u001b[39mfor\u001b[39;00m location \u001b[39min\u001b[39;00m location_list:\n\u001b[1;32m     15\u001b[0m     users\u001b[39m.\u001b[39mloc[users[users[\u001b[39m'\u001b[39m\u001b[39mlocation_city\u001b[39m\u001b[39m'\u001b[39m]\u001b[39m==\u001b[39mlocation\u001b[39m.\u001b[39msplit(\u001b[39m'\u001b[39m\u001b[39m,\u001b[39m\u001b[39m'\u001b[39m)[\u001b[39m0\u001b[39m]]\u001b[39m.\u001b[39mindex,\u001b[39m'\u001b[39m\u001b[39mlocation_state\u001b[39m\u001b[39m'\u001b[39m] \u001b[39m=\u001b[39m location\u001b[39m.\u001b[39msplit(\u001b[39m'\u001b[39m\u001b[39m,\u001b[39m\u001b[39m'\u001b[39m)[\u001b[39m1\u001b[39m]\n\u001b[0;32m---> 16\u001b[0m     users\u001b[39m.\u001b[39mloc[users[users[\u001b[39m'\u001b[39;49m\u001b[39mlocation_city\u001b[39;49m\u001b[39m'\u001b[39;49m]\u001b[39m==\u001b[39;49mlocation\u001b[39m.\u001b[39;49msplit(\u001b[39m'\u001b[39;49m\u001b[39m,\u001b[39;49m\u001b[39m'\u001b[39;49m)[\u001b[39m0\u001b[39;49m]]\u001b[39m.\u001b[39mindex,\u001b[39m'\u001b[39m\u001b[39mlocation_country\u001b[39m\u001b[39m'\u001b[39m] \u001b[39m=\u001b[39m location\u001b[39m.\u001b[39msplit(\u001b[39m'\u001b[39m\u001b[39m,\u001b[39m\u001b[39m'\u001b[39m)[\u001b[39m2\u001b[39m]\n",
      "File \u001b[0;32m/opt/conda/lib/python3.8/site-packages/pandas/core/ops/common.py:72\u001b[0m, in \u001b[0;36m_unpack_zerodim_and_defer.<locals>.new_method\u001b[0;34m(self, other)\u001b[0m\n\u001b[1;32m     68\u001b[0m             \u001b[39mreturn\u001b[39;00m \u001b[39mNotImplemented\u001b[39m\n\u001b[1;32m     70\u001b[0m other \u001b[39m=\u001b[39m item_from_zerodim(other)\n\u001b[0;32m---> 72\u001b[0m \u001b[39mreturn\u001b[39;00m method(\u001b[39mself\u001b[39;49m, other)\n",
      "File \u001b[0;32m/opt/conda/lib/python3.8/site-packages/pandas/core/arraylike.py:42\u001b[0m, in \u001b[0;36mOpsMixin.__eq__\u001b[0;34m(self, other)\u001b[0m\n\u001b[1;32m     40\u001b[0m \u001b[39m@unpack_zerodim_and_defer\u001b[39m(\u001b[39m\"\u001b[39m\u001b[39m__eq__\u001b[39m\u001b[39m\"\u001b[39m)\n\u001b[1;32m     41\u001b[0m \u001b[39mdef\u001b[39;00m \u001b[39m__eq__\u001b[39m(\u001b[39mself\u001b[39m, other):\n\u001b[0;32m---> 42\u001b[0m     \u001b[39mreturn\u001b[39;00m \u001b[39mself\u001b[39;49m\u001b[39m.\u001b[39;49m_cmp_method(other, operator\u001b[39m.\u001b[39;49meq)\n",
      "File \u001b[0;32m/opt/conda/lib/python3.8/site-packages/pandas/core/series.py:6243\u001b[0m, in \u001b[0;36mSeries._cmp_method\u001b[0;34m(self, other, op)\u001b[0m\n\u001b[1;32m   6240\u001b[0m rvalues \u001b[39m=\u001b[39m extract_array(other, extract_numpy\u001b[39m=\u001b[39m\u001b[39mTrue\u001b[39;00m, extract_range\u001b[39m=\u001b[39m\u001b[39mTrue\u001b[39;00m)\n\u001b[1;32m   6242\u001b[0m \u001b[39mwith\u001b[39;00m np\u001b[39m.\u001b[39merrstate(\u001b[39mall\u001b[39m\u001b[39m=\u001b[39m\u001b[39m\"\u001b[39m\u001b[39mignore\u001b[39m\u001b[39m\"\u001b[39m):\n\u001b[0;32m-> 6243\u001b[0m     res_values \u001b[39m=\u001b[39m ops\u001b[39m.\u001b[39;49mcomparison_op(lvalues, rvalues, op)\n\u001b[1;32m   6245\u001b[0m \u001b[39mreturn\u001b[39;00m \u001b[39mself\u001b[39m\u001b[39m.\u001b[39m_construct_result(res_values, name\u001b[39m=\u001b[39mres_name)\n",
      "File \u001b[0;32m/opt/conda/lib/python3.8/site-packages/pandas/core/ops/array_ops.py:287\u001b[0m, in \u001b[0;36mcomparison_op\u001b[0;34m(left, right, op)\u001b[0m\n\u001b[1;32m    284\u001b[0m     \u001b[39mreturn\u001b[39;00m invalid_comparison(lvalues, rvalues, op)\n\u001b[1;32m    286\u001b[0m \u001b[39melif\u001b[39;00m is_object_dtype(lvalues\u001b[39m.\u001b[39mdtype) \u001b[39mor\u001b[39;00m \u001b[39misinstance\u001b[39m(rvalues, \u001b[39mstr\u001b[39m):\n\u001b[0;32m--> 287\u001b[0m     res_values \u001b[39m=\u001b[39m comp_method_OBJECT_ARRAY(op, lvalues, rvalues)\n\u001b[1;32m    289\u001b[0m \u001b[39melse\u001b[39;00m:\n\u001b[1;32m    290\u001b[0m     res_values \u001b[39m=\u001b[39m _na_arithmetic_op(lvalues, rvalues, op, is_cmp\u001b[39m=\u001b[39m\u001b[39mTrue\u001b[39;00m)\n",
      "File \u001b[0;32m/opt/conda/lib/python3.8/site-packages/pandas/core/ops/array_ops.py:75\u001b[0m, in \u001b[0;36mcomp_method_OBJECT_ARRAY\u001b[0;34m(op, x, y)\u001b[0m\n\u001b[1;32m     73\u001b[0m     result \u001b[39m=\u001b[39m libops\u001b[39m.\u001b[39mvec_compare(x\u001b[39m.\u001b[39mravel(), y\u001b[39m.\u001b[39mravel(), op)\n\u001b[1;32m     74\u001b[0m \u001b[39melse\u001b[39;00m:\n\u001b[0;32m---> 75\u001b[0m     result \u001b[39m=\u001b[39m libops\u001b[39m.\u001b[39;49mscalar_compare(x\u001b[39m.\u001b[39;49mravel(), y, op)\n\u001b[1;32m     76\u001b[0m \u001b[39mreturn\u001b[39;00m result\u001b[39m.\u001b[39mreshape(x\u001b[39m.\u001b[39mshape)\n",
      "\u001b[0;31mKeyboardInterrupt\u001b[0m: "
     ]
    }
   ],
   "source": [
    "# users 결측치\n",
    "### city값이 존재하는데, country 정보가 없는 경우 처리\n",
    "modify_location = users[(users['location_country'].isna())&(users['location_city'].notnull())]['location_city'].values\n",
    "location = users[(users['location'].str.contains('seattle'))&(users['location_country'].notnull())]['location'].value_counts().index[0]\n",
    "\n",
    "location_list = []\n",
    "for location in modify_location:\n",
    "    try:\n",
    "        right_location = users[(users['location'].str.contains(location))&(users['location_country'].notnull())]['location'].value_counts().index[0]\n",
    "        location_list.append(right_location)\n",
    "    except:\n",
    "        pass\n",
    "    \n",
    "for location in location_list:\n",
    "    users.loc[users[users['location_city']==location.split(',')[0]].index,'location_state'] = location.split(',')[1]\n",
    "    users.loc[users[users['location_city']==location.split(',')[0]].index,'location_country'] = location.split(',')[2]\n",
    "    \n",
    "###"
   ]
  },
  {
   "cell_type": "code",
   "execution_count": null,
   "metadata": {},
   "outputs": [
    {
     "data": {
      "text/plain": [
       "user_id                 0\n",
       "location                0\n",
       "age                 27833\n",
       "location_city         122\n",
       "location_state       1132\n",
       "location_country      271\n",
       "dtype: int64"
      ]
     },
     "execution_count": 9,
     "metadata": {},
     "output_type": "execute_result"
    }
   ],
   "source": [
    "users.isna().sum()"
   ]
  },
  {
   "cell_type": "markdown",
   "metadata": {},
   "source": [
    "# Books 결측치"
   ]
  },
  {
   "cell_type": "code",
   "execution_count": 3,
   "metadata": {},
   "outputs": [
    {
     "data": {
      "text/html": [
       "<div>\n",
       "<style scoped>\n",
       "    .dataframe tbody tr th:only-of-type {\n",
       "        vertical-align: middle;\n",
       "    }\n",
       "\n",
       "    .dataframe tbody tr th {\n",
       "        vertical-align: top;\n",
       "    }\n",
       "\n",
       "    .dataframe thead th {\n",
       "        text-align: right;\n",
       "    }\n",
       "</style>\n",
       "<table border=\"1\" class=\"dataframe\">\n",
       "  <thead>\n",
       "    <tr style=\"text-align: right;\">\n",
       "      <th></th>\n",
       "      <th>isbn</th>\n",
       "      <th>book_title</th>\n",
       "      <th>book_author</th>\n",
       "      <th>year_of_publication</th>\n",
       "      <th>publisher</th>\n",
       "      <th>img_url</th>\n",
       "      <th>language</th>\n",
       "      <th>category</th>\n",
       "      <th>summary</th>\n",
       "      <th>img_path</th>\n",
       "    </tr>\n",
       "  </thead>\n",
       "  <tbody>\n",
       "  </tbody>\n",
       "</table>\n",
       "</div>"
      ],
      "text/plain": [
       "Empty DataFrame\n",
       "Columns: [isbn, book_title, book_author, year_of_publication, publisher, img_url, language, category, summary, img_path]\n",
       "Index: []"
      ]
     },
     "execution_count": 3,
     "metadata": {},
     "output_type": "execute_result"
    }
   ],
   "source": [
    "# isbn이 잘못된 경우는 없다!!!\n",
    "books[books['isbn'] != books['img_url'].apply(lambda x: x.split('P/')[1][:10])]"
   ]
  },
  {
   "cell_type": "code",
   "execution_count": 4,
   "metadata": {},
   "outputs": [
    {
     "data": {
      "text/html": [
       "<div>\n",
       "<style scoped>\n",
       "    .dataframe tbody tr th:only-of-type {\n",
       "        vertical-align: middle;\n",
       "    }\n",
       "\n",
       "    .dataframe tbody tr th {\n",
       "        vertical-align: top;\n",
       "    }\n",
       "\n",
       "    .dataframe thead th {\n",
       "        text-align: right;\n",
       "    }\n",
       "</style>\n",
       "<table border=\"1\" class=\"dataframe\">\n",
       "  <thead>\n",
       "    <tr style=\"text-align: right;\">\n",
       "      <th></th>\n",
       "      <th>isbn</th>\n",
       "      <th>book_title</th>\n",
       "      <th>book_author</th>\n",
       "      <th>year_of_publication</th>\n",
       "      <th>publisher</th>\n",
       "      <th>img_url</th>\n",
       "      <th>language</th>\n",
       "      <th>category</th>\n",
       "      <th>summary</th>\n",
       "      <th>img_path</th>\n",
       "    </tr>\n",
       "  </thead>\n",
       "  <tbody>\n",
       "  </tbody>\n",
       "</table>\n",
       "</div>"
      ],
      "text/plain": [
       "Empty DataFrame\n",
       "Columns: [isbn, book_title, book_author, year_of_publication, publisher, img_url, language, category, summary, img_path]\n",
       "Index: []"
      ]
     },
     "execution_count": 4,
     "metadata": {},
     "output_type": "execute_result"
    }
   ],
   "source": [
    "books[books['isbn'] != books['img_path'].apply(lambda x: x.split('.')[0][7:])]"
   ]
  },
  {
   "cell_type": "markdown",
   "metadata": {},
   "source": [
    "### Category 대분류 생성"
   ]
  },
  {
   "cell_type": "code",
   "execution_count": 5,
   "metadata": {},
   "outputs": [],
   "source": [
    "# category 대분류\n",
    "\n",
    "import re\n",
    "books.loc[books[books['category'].notnull()].index, 'category'] = books[books['category'].notnull()]['category'].apply(lambda x: re.sub('[\\W_]+',' ',x).strip())\n",
    "books['category'] = books['category'].str.lower()\n",
    "\n",
    "books['category_low'] = books['category'].copy()\n",
    "\n",
    "category_high_df = pd.DataFrame(books['category'].value_counts()).reset_index()\n",
    "category_high_df.columns = ['category', 'count']\n",
    "\n",
    "other_list = category_high_df[category_high_df['count'] < 5]['category']\n",
    "books.loc[books[books['category'].isin(other_list)].index, 'category'] = 'others'\n",
    "\n",
    "books.loc[books[books['category']=='biography'].index, 'category'] = 'biography autobiography'\n",
    "books.loc[books[books['category']=='autobiography'].index,'category'] = 'biography autobiography'\n",
    "\n",
    "categories = ['history', 'fiction', 'garden','crafts','physics','adventure','music','fiction','nonfiction','science','science fiction','social','homicide',\n",
    " 'sociology','disease','religion','christian','philosophy','psycholog','mathemat','agricult','environmental',\n",
    " 'business','poetry','drama','literary','travel','motion picture','children','cook','literature','electronic',\n",
    " 'humor','animal','bird','photograph','computer','house','ecology','family','architect','camp','criminal','language','india']\n",
    "\n",
    "for category in categories:\n",
    "    books.loc[books[books['category'].str.contains(category,na=False)].index,'category'] = category"
   ]
  },
  {
   "cell_type": "code",
   "execution_count": 6,
   "metadata": {},
   "outputs": [
    {
     "data": {
      "text/plain": [
       "isbn                       0\n",
       "book_title                 0\n",
       "book_author                0\n",
       "year_of_publication        0\n",
       "publisher                  0\n",
       "img_url                    0\n",
       "language               67227\n",
       "category               68851\n",
       "summary                67227\n",
       "img_path                   0\n",
       "category_low           68851\n",
       "dtype: int64"
      ]
     },
     "execution_count": 6,
     "metadata": {},
     "output_type": "execute_result"
    }
   ],
   "source": [
    "books.isna().sum()"
   ]
  },
  {
   "cell_type": "code",
   "execution_count": 7,
   "metadata": {},
   "outputs": [
    {
     "data": {
      "text/plain": [
       "fiction                    41125\n",
       "others                      5196\n",
       "biography autobiography     3333\n",
       "science                     2286\n",
       "history                     1939\n",
       "                           ...  \n",
       "questions and answers          5\n",
       "internet                       5\n",
       "grandmothers                   5\n",
       "caribbean area                 5\n",
       "ducks                          5\n",
       "Name: category, Length: 407, dtype: int64"
      ]
     },
     "execution_count": 7,
     "metadata": {},
     "output_type": "execute_result"
    }
   ],
   "source": [
    "books['category'].value_counts()"
   ]
  },
  {
   "cell_type": "markdown",
   "metadata": {},
   "source": [
    "### 데이터 중 특수문자(\\&#39;, 문자('\\n')을 공백(' ') 전처리)"
   ]
  },
  {
   "cell_type": "code",
   "execution_count": 8,
   "metadata": {},
   "outputs": [],
   "source": [
    "# summary에 특수문자가 &#39;로 표시된 경우 처리\n",
    "# 개행 문자('\\n')을 공백(' ')으로 변경\n",
    "summary_ = pd.DataFrame(books[['book_title','summary']])\n",
    "\n",
    "dic = {\n",
    "    \"&quot;\" : '\"',\n",
    "    \"&amp;\" : \"&\",\n",
    "    \"&lt;\" : \"<\",\n",
    "    \"&gt;\" : '>',\n",
    "    \"&#34;\" : '\"',\n",
    "    '&#39;' : \"'\"\n",
    "}\n",
    "\n",
    "for k, v in dic.items():\n",
    "    summary_['summary'] = summary_['summary'].str.replace(k,v, regex=True)\n",
    "summary_['summary'] = summary_['summary'].str.replace('\\n', ' ')\n",
    "books['summary'] = summary_['summary']"
   ]
  },
  {
   "cell_type": "markdown",
   "metadata": {},
   "source": [
    "### book_author 공백 없이 보게 전처리"
   ]
  },
  {
   "cell_type": "code",
   "execution_count": 9,
   "metadata": {},
   "outputs": [],
   "source": [
    "# book_author 모두 소문자 -> 공백 제거 후 모두 이어붙임\n",
    "book_author = books['book_author'].str.lower()\n",
    "books['book_author'] = book_author.map(lambda x: \"\".join(x.split()))\n",
    "# books['book_author'].value_counts()"
   ]
  },
  {
   "cell_type": "markdown",
   "metadata": {},
   "source": [
    "### publisher isbn 기준으로 중복처리"
   ]
  },
  {
   "cell_type": "code",
   "execution_count": 10,
   "metadata": {},
   "outputs": [
    {
     "data": {
      "text/plain": [
       "11571"
      ]
     },
     "execution_count": 10,
     "metadata": {},
     "output_type": "execute_result"
    }
   ],
   "source": [
    "# mission 1\n",
    "# 같은 출판산데 이름이 다른 경우 처리 a_book 이랑 a_audio\n",
    "publisher_dict=(books['publisher'].value_counts()).to_dict()\n",
    "publisher_count_df= pd.DataFrame(list(publisher_dict.items()),columns = ['publisher','count'])\n",
    "\n",
    "publisher_count_df = publisher_count_df.sort_values(by=['count'], ascending = False)\n",
    "books['publisher'].nunique() # 수정전 항목 수를 확인합니다.\n",
    "books[books['isbn'].apply(lambda x: x[:4])=='0140']['publisher'].unique()\n",
    "modify_list = publisher_count_df[publisher_count_df['count']>1].publisher.values\n",
    "books['publisher'].nunique() #수정 후 출판사 갯수입니다"
   ]
  },
  {
   "cell_type": "markdown",
   "metadata": {},
   "source": [
    "## 작가가 썼던 책을 기준으로 language 채우기"
   ]
  },
  {
   "cell_type": "code",
   "execution_count": 11,
   "metadata": {},
   "outputs": [
    {
     "name": "stdout",
     "output_type": "stream",
     "text": [
      "isbn                       0\n",
      "book_title                 0\n",
      "book_author                0\n",
      "year_of_publication        0\n",
      "publisher                  0\n",
      "img_url                    0\n",
      "language               25349\n",
      "category               68851\n",
      "summary                67227\n",
      "img_path                   0\n",
      "category_low           68851\n",
      "dtype: int64\n"
     ]
    }
   ],
   "source": [
    "# language 결측치 채우기\n",
    "# 작가가 쓴 책을 찾아서 language 채우기\n",
    "\n",
    "\n",
    "look_up_df = books[books.language.notnull()].drop_duplicates(['book_author'])\n",
    "look_up_df = look_up_df.set_index('book_author')['language']\n",
    "books['language'] = books['language'].fillna(books['book_author'].map(look_up_df))\n",
    "books=books.reset_index(drop=True)\n",
    "print(books.isna().sum())\n"
   ]
  },
  {
   "cell_type": "code",
   "execution_count": 12,
   "metadata": {},
   "outputs": [
    {
     "data": {
      "text/plain": [
       "Int64Index([     5,      8,      9,     10,     11,     25,     27,     30,\n",
       "                31,     42,\n",
       "            ...\n",
       "            149550, 149552, 149555, 149557, 149558, 149560, 149561, 149564,\n",
       "            149567, 149569],\n",
       "           dtype='int64', length=68851)"
      ]
     },
     "execution_count": 12,
     "metadata": {},
     "output_type": "execute_result"
    }
   ],
   "source": [
    "books[books.category.isna()].index"
   ]
  },
  {
   "cell_type": "code",
   "execution_count": 13,
   "metadata": {},
   "outputs": [
    {
     "data": {
      "text/plain": [
       "0         richardbrucewright\n",
       "1                carlod'este\n",
       "2             ginabarikolata\n",
       "3                     amytan\n",
       "4               robertcowley\n",
       "                 ...        \n",
       "149565          p.j.o'rourke\n",
       "149566           samlightner\n",
       "149567          claudedooley\n",
       "149568           jeremylloyd\n",
       "149569                mapsco\n",
       "Name: book_author, Length: 149570, dtype: object"
      ]
     },
     "execution_count": 13,
     "metadata": {},
     "output_type": "execute_result"
    }
   ],
   "source": [
    "books.book_author"
   ]
  },
  {
   "cell_type": "markdown",
   "metadata": {},
   "source": [
    "#### 책제목과 작가가 같으면 같은 책이므로 language가 있는 다른 index에서 language를 가져옴."
   ]
  },
  {
   "cell_type": "code",
   "execution_count": 14,
   "metadata": {},
   "outputs": [
    {
     "name": "stdout",
     "output_type": "stream",
     "text": [
      "5\n",
      "8\n",
      "9\n",
      "10\n",
      "11\n",
      "25\n",
      "27\n",
      "30\n",
      "31\n",
      "42\n",
      "51\n",
      "52\n",
      "55\n",
      "60\n",
      "61\n",
      "62\n",
      "66\n",
      "72\n",
      "76\n",
      "77\n",
      "78\n",
      "79\n",
      "80\n",
      "85\n",
      "90\n",
      "93\n",
      "94\n",
      "100\n",
      "102\n",
      "104\n",
      "106\n",
      "107\n",
      "110\n",
      "111\n",
      "113\n",
      "116\n",
      "118\n",
      "120\n",
      "125\n",
      "126\n",
      "130\n",
      "133\n",
      "138\n",
      "141\n",
      "145\n",
      "147\n",
      "151\n",
      "152\n",
      "158\n",
      "162\n",
      "165\n",
      "168\n",
      "171\n",
      "172\n",
      "173\n",
      "174\n",
      "176\n",
      "177\n",
      "178\n",
      "179\n",
      "180\n",
      "181\n",
      "182\n",
      "183\n",
      "184\n",
      "185\n",
      "186\n",
      "187\n",
      "189\n",
      "190\n",
      "191\n",
      "192\n",
      "193\n",
      "194\n",
      "199\n",
      "200\n",
      "201\n",
      "202\n",
      "203\n",
      "204\n",
      "205\n",
      "206\n",
      "207\n",
      "211\n",
      "215\n",
      "218\n",
      "219\n",
      "221\n",
      "223\n",
      "227\n",
      "228\n",
      "231\n",
      "232\n",
      "237\n",
      "238\n",
      "240\n",
      "241\n",
      "242\n",
      "243\n",
      "252\n",
      "254\n",
      "255\n",
      "256\n",
      "257\n",
      "260\n",
      "264\n",
      "268\n",
      "271\n",
      "273\n",
      "279\n",
      "280\n",
      "281\n",
      "282\n",
      "287\n",
      "293\n",
      "299\n",
      "300\n",
      "302\n",
      "310\n",
      "313\n",
      "316\n",
      "317\n",
      "321\n",
      "322\n",
      "323\n",
      "325\n",
      "330\n",
      "331\n",
      "333\n",
      "338\n",
      "343\n",
      "345\n",
      "346\n",
      "347\n",
      "349\n",
      "350\n",
      "351\n",
      "352\n",
      "355\n",
      "356\n",
      "357\n",
      "358\n",
      "360\n",
      "367\n",
      "368\n",
      "369\n",
      "375\n",
      "376\n"
     ]
    },
    {
     "ename": "KeyboardInterrupt",
     "evalue": "",
     "output_type": "error",
     "traceback": [
      "\u001b[0;31m---------------------------------------------------------------------------\u001b[0m",
      "\u001b[0;31mKeyboardInterrupt\u001b[0m                         Traceback (most recent call last)",
      "Cell \u001b[0;32mIn [14], line 9\u001b[0m\n\u001b[1;32m      7\u001b[0m \u001b[39mfor\u001b[39;00m idx_n \u001b[39min\u001b[39;00m books[books\u001b[39m.\u001b[39mcategory\u001b[39m.\u001b[39misna()]\u001b[39m.\u001b[39mindex:\n\u001b[1;32m      8\u001b[0m     \u001b[39mprint\u001b[39m(idx_n)\n\u001b[0;32m----> 9\u001b[0m     books[new_func(idx_n)]\u001b[39m.\u001b[39mffill()\u001b[39m.\u001b[39mbfill()\n\u001b[1;32m     10\u001b[0m     books[new_func(idx_n)] \u001b[39m=\u001b[39m books[new_func(idx_n)]\u001b[39m.\u001b[39mffill()\u001b[39m.\u001b[39mbfill()\n",
      "Cell \u001b[0;32mIn [14], line 5\u001b[0m, in \u001b[0;36mnew_func\u001b[0;34m(idx_n)\u001b[0m\n\u001b[1;32m      4\u001b[0m \u001b[39mdef\u001b[39;00m \u001b[39mnew_func\u001b[39m(idx_n):\n\u001b[0;32m----> 5\u001b[0m     \u001b[39mreturn\u001b[39;00m books\u001b[39m.\u001b[39;49mbook_title\u001b[39m.\u001b[39;49misin([books\u001b[39m.\u001b[39;49miloc[idx_n]\u001b[39m.\u001b[39;49mbook_title]) \u001b[39m&\u001b[39m books\u001b[39m.\u001b[39mbook_author\u001b[39m.\u001b[39misin([books\u001b[39m.\u001b[39miloc[idx_n]\u001b[39m.\u001b[39mbook_author])\n",
      "File \u001b[0;32m/opt/conda/lib/python3.8/site-packages/pandas/core/series.py:5563\u001b[0m, in \u001b[0;36mSeries.isin\u001b[0;34m(self, values)\u001b[0m\n\u001b[1;32m   5490\u001b[0m \u001b[39mdef\u001b[39;00m \u001b[39misin\u001b[39m(\u001b[39mself\u001b[39m, values) \u001b[39m-\u001b[39m\u001b[39m>\u001b[39m Series:\n\u001b[1;32m   5491\u001b[0m     \u001b[39m\"\"\"\u001b[39;00m\n\u001b[1;32m   5492\u001b[0m \u001b[39m    Whether elements in Series are contained in `values`.\u001b[39;00m\n\u001b[1;32m   5493\u001b[0m \n\u001b[0;32m   (...)\u001b[0m\n\u001b[1;32m   5561\u001b[0m \u001b[39m    dtype: bool\u001b[39;00m\n\u001b[1;32m   5562\u001b[0m \u001b[39m    \"\"\"\u001b[39;00m\n\u001b[0;32m-> 5563\u001b[0m     result \u001b[39m=\u001b[39m algorithms\u001b[39m.\u001b[39;49misin(\u001b[39mself\u001b[39;49m\u001b[39m.\u001b[39;49m_values, values)\n\u001b[1;32m   5564\u001b[0m     \u001b[39mreturn\u001b[39;00m \u001b[39mself\u001b[39m\u001b[39m.\u001b[39m_constructor(result, index\u001b[39m=\u001b[39m\u001b[39mself\u001b[39m\u001b[39m.\u001b[39mindex)\u001b[39m.\u001b[39m__finalize__(\n\u001b[1;32m   5565\u001b[0m         \u001b[39mself\u001b[39m, method\u001b[39m=\u001b[39m\u001b[39m\"\u001b[39m\u001b[39misin\u001b[39m\u001b[39m\"\u001b[39m\n\u001b[1;32m   5566\u001b[0m     )\n",
      "File \u001b[0;32m/opt/conda/lib/python3.8/site-packages/pandas/core/algorithms.py:523\u001b[0m, in \u001b[0;36misin\u001b[0;34m(comps, values)\u001b[0m\n\u001b[1;32m    520\u001b[0m     comps_array \u001b[39m=\u001b[39m comps_array\u001b[39m.\u001b[39mastype(common, copy\u001b[39m=\u001b[39m\u001b[39mFalse\u001b[39;00m)\n\u001b[1;32m    521\u001b[0m     f \u001b[39m=\u001b[39m htable\u001b[39m.\u001b[39mismember\n\u001b[0;32m--> 523\u001b[0m \u001b[39mreturn\u001b[39;00m f(comps_array, values)\n",
      "\u001b[0;31mKeyboardInterrupt\u001b[0m: "
     ]
    }
   ],
   "source": [
    "# category&summary 결측치 채우기\n",
    "# 책제목과 작가가 같으면 같은 책이므로 language가 있는 다른 index에서 language를 가져옴.\n",
    "\n",
    "def new_func(idx_n):\n",
    "    return books.book_title.isin([books.iloc[idx_n].book_title]) & books.book_author.isin([books.iloc[idx_n].book_author])\n",
    "\n",
    "for idx_n in books[books.category.isna()].index:\n",
    "    # print(idx_n)\n",
    "    books[new_func(idx_n)].ffill().bfill()\n",
    "    books[new_func(idx_n)] = books[new_func(idx_n)].ffill().bfill()"
   ]
  },
  {
   "cell_type": "code",
   "execution_count": 15,
   "metadata": {},
   "outputs": [],
   "source": [
    "books.to_csv('new_books.csv', index=False)"
   ]
  },
  {
   "cell_type": "code",
   "execution_count": 16,
   "metadata": {},
   "outputs": [
    {
     "data": {
      "text/html": [
       "<div>\n",
       "<style scoped>\n",
       "    .dataframe tbody tr th:only-of-type {\n",
       "        vertical-align: middle;\n",
       "    }\n",
       "\n",
       "    .dataframe tbody tr th {\n",
       "        vertical-align: top;\n",
       "    }\n",
       "\n",
       "    .dataframe thead th {\n",
       "        text-align: right;\n",
       "    }\n",
       "</style>\n",
       "<table border=\"1\" class=\"dataframe\">\n",
       "  <thead>\n",
       "    <tr style=\"text-align: right;\">\n",
       "      <th></th>\n",
       "      <th>isbn</th>\n",
       "      <th>book_title</th>\n",
       "      <th>book_author</th>\n",
       "      <th>year_of_publication</th>\n",
       "      <th>publisher</th>\n",
       "      <th>img_url</th>\n",
       "      <th>language</th>\n",
       "      <th>category</th>\n",
       "      <th>summary</th>\n",
       "      <th>img_path</th>\n",
       "      <th>category_low</th>\n",
       "    </tr>\n",
       "  </thead>\n",
       "  <tbody>\n",
       "    <tr>\n",
       "      <th>25</th>\n",
       "      <td>0312978383</td>\n",
       "      <td>Winter Solstice</td>\n",
       "      <td>rosamundepilcher</td>\n",
       "      <td>2001.0</td>\n",
       "      <td>St. Martin's Paperbacks</td>\n",
       "      <td>http://images.amazon.com/images/P/0312978383.0...</td>\n",
       "      <td>en</td>\n",
       "      <td>fiction</td>\n",
       "      <td>Five people buffeted by life's difficulties co...</td>\n",
       "      <td>images/0312978383.01.THUMBZZZ.jpg</td>\n",
       "      <td>fiction</td>\n",
       "    </tr>\n",
       "    <tr>\n",
       "      <th>7264</th>\n",
       "      <td>0312244266</td>\n",
       "      <td>Winter Solstice</td>\n",
       "      <td>rosamundepilcher</td>\n",
       "      <td>2000.0</td>\n",
       "      <td>Thomas Dunne Books</td>\n",
       "      <td>http://images.amazon.com/images/P/0312244266.0...</td>\n",
       "      <td>en</td>\n",
       "      <td>fiction</td>\n",
       "      <td>Five people buffeted by life's difficulties co...</td>\n",
       "      <td>images/0312244266.01.THUMBZZZ.jpg</td>\n",
       "      <td>fiction</td>\n",
       "    </tr>\n",
       "    <tr>\n",
       "      <th>79374</th>\n",
       "      <td>B00009NDAN</td>\n",
       "      <td>Winter Solstice</td>\n",
       "      <td>rosamundepilcher</td>\n",
       "      <td>2000.0</td>\n",
       "      <td>St. Martin's Press</td>\n",
       "      <td>http://images.amazon.com/images/P/B00009NDAN.0...</td>\n",
       "      <td>en</td>\n",
       "      <td>fiction</td>\n",
       "      <td>Five people buffeted by life's difficulties co...</td>\n",
       "      <td>images/B00009NDAN.01.THUMBZZZ.jpg</td>\n",
       "      <td>fiction</td>\n",
       "    </tr>\n",
       "  </tbody>\n",
       "</table>\n",
       "</div>"
      ],
      "text/plain": [
       "             isbn       book_title       book_author  year_of_publication  \\\n",
       "25     0312978383  Winter Solstice  rosamundepilcher               2001.0   \n",
       "7264   0312244266  Winter Solstice  rosamundepilcher               2000.0   \n",
       "79374  B00009NDAN  Winter Solstice  rosamundepilcher               2000.0   \n",
       "\n",
       "                     publisher  \\\n",
       "25     St. Martin's Paperbacks   \n",
       "7264        Thomas Dunne Books   \n",
       "79374       St. Martin's Press   \n",
       "\n",
       "                                                 img_url language category  \\\n",
       "25     http://images.amazon.com/images/P/0312978383.0...       en  fiction   \n",
       "7264   http://images.amazon.com/images/P/0312244266.0...       en  fiction   \n",
       "79374  http://images.amazon.com/images/P/B00009NDAN.0...       en  fiction   \n",
       "\n",
       "                                                 summary  \\\n",
       "25     Five people buffeted by life's difficulties co...   \n",
       "7264   Five people buffeted by life's difficulties co...   \n",
       "79374  Five people buffeted by life's difficulties co...   \n",
       "\n",
       "                                img_path category_low  \n",
       "25     images/0312978383.01.THUMBZZZ.jpg      fiction  \n",
       "7264   images/0312244266.01.THUMBZZZ.jpg      fiction  \n",
       "79374  images/B00009NDAN.01.THUMBZZZ.jpg      fiction  "
      ]
     },
     "execution_count": 16,
     "metadata": {},
     "output_type": "execute_result"
    }
   ],
   "source": [
    "# 확인\n",
    "books[books.book_title.isin([books.iloc[25].book_title]) & books.book_author.isin([books.iloc[25].book_author])]"
   ]
  },
  {
   "cell_type": "markdown",
   "metadata": {},
   "source": [
    "### Category 결측값 fiction으로 채우기"
   ]
  },
  {
   "cell_type": "code",
   "execution_count": 17,
   "metadata": {},
   "outputs": [],
   "source": [
    "# books['category'] 결측치\n",
    "## fiction이 카테고리 50프로 이상이라 결측치 일단 fiction으로\n",
    "books['category'] = books['category'].fillna(\"['Fiction']\")"
   ]
  },
  {
   "cell_type": "code",
   "execution_count": 18,
   "metadata": {},
   "outputs": [
    {
     "data": {
      "text/plain": [
       "isbn                       0\n",
       "book_title                 0\n",
       "book_author                0\n",
       "year_of_publication        0\n",
       "publisher                  0\n",
       "img_url                    0\n",
       "language               25349\n",
       "category                   0\n",
       "summary                67163\n",
       "img_path                   0\n",
       "category_low           68786\n",
       "dtype: int64"
      ]
     },
     "execution_count": 18,
     "metadata": {},
     "output_type": "execute_result"
    }
   ],
   "source": [
    "books.isna().sum()"
   ]
  },
  {
   "cell_type": "code",
   "execution_count": 30,
   "metadata": {},
   "outputs": [],
   "source": [
    "for i in range(len(isbns)):\n",
    "    books.loc[books[\"isbn\"].str.startswith(str(isbns.iloc[i][0])), \"country\"] = isbns.iloc[i][1] # isbn으로 나라 못찾음!!"
   ]
  },
  {
   "cell_type": "code",
   "execution_count": 35,
   "metadata": {},
   "outputs": [],
   "source": [
    "books = books[~(books.country.isna())] #여기서 드랍했어요!!!!!!!! - "
   ]
  },
  {
   "cell_type": "code",
   "execution_count": 33,
   "metadata": {},
   "outputs": [],
   "source": [
    "books.country.dropna(inplace = True)"
   ]
  },
  {
   "cell_type": "code",
   "execution_count": 46,
   "metadata": {},
   "outputs": [
    {
     "data": {
      "text/plain": [
       "en       95.725146\n",
       "de        1.556921\n",
       "es        1.235093\n",
       "fr        1.072357\n",
       "it        0.149377\n",
       "nl        0.081368\n",
       "pt        0.057079\n",
       "da        0.044935\n",
       "ca        0.027932\n",
       "ms        0.012144\n",
       "no        0.007287\n",
       "zh-CN     0.003643\n",
       "ja        0.003643\n",
       "gl        0.003643\n",
       "ru        0.003643\n",
       "la        0.003643\n",
       "el        0.001214\n",
       "th        0.001214\n",
       "ro        0.001214\n",
       "fa        0.001214\n",
       "eo        0.001214\n",
       "gd        0.001214\n",
       "ga        0.001214\n",
       "vi        0.001214\n",
       "zh-TW     0.001214\n",
       "ko        0.001214\n",
       "Name: language, dtype: float64"
      ]
     },
     "execution_count": 46,
     "metadata": {},
     "output_type": "execute_result"
    }
   ],
   "source": [
    "books['language'].value_counts() * 100 / len(books[~books['language'].isna()])\n",
    "# ca: 캐나다식 영어\n",
    "# "
   ]
  },
  {
   "cell_type": "code",
   "execution_count": 41,
   "metadata": {},
   "outputs": [
    {
     "data": {
      "text/plain": [
       "26"
      ]
     },
     "execution_count": 41,
     "metadata": {},
     "output_type": "execute_result"
    }
   ],
   "source": [
    "len(books['language'].value_counts())"
   ]
  },
  {
   "cell_type": "code",
   "execution_count": 38,
   "metadata": {},
   "outputs": [
    {
     "data": {
      "text/plain": [
       "isbn                       0\n",
       "book_title                 0\n",
       "book_author                0\n",
       "year_of_publication        0\n",
       "publisher                  0\n",
       "img_url                    0\n",
       "language               67179\n",
       "category               68803\n",
       "summary                67179\n",
       "img_path                   0\n",
       "country                    0\n",
       "dtype: int64"
      ]
     },
     "execution_count": 38,
     "metadata": {},
     "output_type": "execute_result"
    }
   ],
   "source": [
    "books.isna().sum()"
   ]
  },
  {
   "cell_type": "code",
   "execution_count": 62,
   "metadata": {},
   "outputs": [
    {
     "data": {
      "text/html": [
       "<div>\n",
       "<style scoped>\n",
       "    .dataframe tbody tr th:only-of-type {\n",
       "        vertical-align: middle;\n",
       "    }\n",
       "\n",
       "    .dataframe tbody tr th {\n",
       "        vertical-align: top;\n",
       "    }\n",
       "\n",
       "    .dataframe thead th {\n",
       "        text-align: right;\n",
       "    }\n",
       "</style>\n",
       "<table border=\"1\" class=\"dataframe\">\n",
       "  <thead>\n",
       "    <tr style=\"text-align: right;\">\n",
       "      <th></th>\n",
       "      <th>country</th>\n",
       "    </tr>\n",
       "  </thead>\n",
       "  <tbody>\n",
       "    <tr>\n",
       "      <th>English</th>\n",
       "      <td>89.890383</td>\n",
       "    </tr>\n",
       "    <tr>\n",
       "      <th>German</th>\n",
       "      <td>4.484989</td>\n",
       "    </tr>\n",
       "    <tr>\n",
       "      <th>French</th>\n",
       "      <td>2.277272</td>\n",
       "    </tr>\n",
       "    <tr>\n",
       "      <th>Spain</th>\n",
       "      <td>2.273259</td>\n",
       "    </tr>\n",
       "    <tr>\n",
       "      <th>Italian</th>\n",
       "      <td>0.322363</td>\n",
       "    </tr>\n",
       "    <tr>\n",
       "      <th>Argentina</th>\n",
       "      <td>0.161850</td>\n",
       "    </tr>\n",
       "    <tr>\n",
       "      <th>Dutch/Flemish</th>\n",
       "      <td>0.117709</td>\n",
       "    </tr>\n",
       "    <tr>\n",
       "      <th>Portugal</th>\n",
       "      <td>0.070893</td>\n",
       "    </tr>\n",
       "    <tr>\n",
       "      <th>Mexico</th>\n",
       "      <td>0.063536</td>\n",
       "    </tr>\n",
       "    <tr>\n",
       "      <th>Japan</th>\n",
       "      <td>0.053504</td>\n",
       "    </tr>\n",
       "    <tr>\n",
       "      <th>Brazil</th>\n",
       "      <td>0.036784</td>\n",
       "    </tr>\n",
       "    <tr>\n",
       "      <th>Malaysia</th>\n",
       "      <td>0.028090</td>\n",
       "    </tr>\n",
       "    <tr>\n",
       "      <th>Singapore</th>\n",
       "      <td>0.026752</td>\n",
       "    </tr>\n",
       "    <tr>\n",
       "      <th>Russia and former USSR</th>\n",
       "      <td>0.018726</td>\n",
       "    </tr>\n",
       "    <tr>\n",
       "      <th>Sweden</th>\n",
       "      <td>0.016051</td>\n",
       "    </tr>\n",
       "    <tr>\n",
       "      <th>Poland</th>\n",
       "      <td>0.016051</td>\n",
       "    </tr>\n",
       "    <tr>\n",
       "      <th>India</th>\n",
       "      <td>0.013376</td>\n",
       "    </tr>\n",
       "    <tr>\n",
       "      <th>Colombia</th>\n",
       "      <td>0.010701</td>\n",
       "    </tr>\n",
       "    <tr>\n",
       "      <th>Hong Kong</th>\n",
       "      <td>0.010032</td>\n",
       "    </tr>\n",
       "    <tr>\n",
       "      <th>Finland</th>\n",
       "      <td>0.008694</td>\n",
       "    </tr>\n",
       "    <tr>\n",
       "      <th>Bolivia</th>\n",
       "      <td>0.008026</td>\n",
       "    </tr>\n",
       "    <tr>\n",
       "      <th>Denmark</th>\n",
       "      <td>0.006688</td>\n",
       "    </tr>\n",
       "    <tr>\n",
       "      <th>Philippines</th>\n",
       "      <td>0.005350</td>\n",
       "    </tr>\n",
       "    <tr>\n",
       "      <th>Greece</th>\n",
       "      <td>0.005350</td>\n",
       "    </tr>\n",
       "    <tr>\n",
       "      <th>Chile</th>\n",
       "      <td>0.005350</td>\n",
       "    </tr>\n",
       "    <tr>\n",
       "      <th>Thailand</th>\n",
       "      <td>0.005350</td>\n",
       "    </tr>\n",
       "    <tr>\n",
       "      <th>Norway</th>\n",
       "      <td>0.004682</td>\n",
       "    </tr>\n",
       "    <tr>\n",
       "      <th>Tajikistan</th>\n",
       "      <td>0.004682</td>\n",
       "    </tr>\n",
       "    <tr>\n",
       "      <th>Czech Republic</th>\n",
       "      <td>0.004013</td>\n",
       "    </tr>\n",
       "    <tr>\n",
       "      <th>China</th>\n",
       "      <td>0.004013</td>\n",
       "    </tr>\n",
       "    <tr>\n",
       "      <th>Costa Rica</th>\n",
       "      <td>0.002675</td>\n",
       "    </tr>\n",
       "    <tr>\n",
       "      <th>Israel</th>\n",
       "      <td>0.002675</td>\n",
       "    </tr>\n",
       "    <tr>\n",
       "      <th>Turkey</th>\n",
       "      <td>0.002675</td>\n",
       "    </tr>\n",
       "    <tr>\n",
       "      <th>Hungary</th>\n",
       "      <td>0.002675</td>\n",
       "    </tr>\n",
       "    <tr>\n",
       "      <th>Montenegro</th>\n",
       "      <td>0.002675</td>\n",
       "    </tr>\n",
       "    <tr>\n",
       "      <th>South Korea</th>\n",
       "      <td>0.002675</td>\n",
       "    </tr>\n",
       "    <tr>\n",
       "      <th>Iran</th>\n",
       "      <td>0.002006</td>\n",
       "    </tr>\n",
       "    <tr>\n",
       "      <th>International organisations and non-profits</th>\n",
       "      <td>0.002006</td>\n",
       "    </tr>\n",
       "    <tr>\n",
       "      <th>Venezuela</th>\n",
       "      <td>0.002006</td>\n",
       "    </tr>\n",
       "    <tr>\n",
       "      <th>Bulgaria</th>\n",
       "      <td>0.002006</td>\n",
       "    </tr>\n",
       "    <tr>\n",
       "      <th>Caribbean</th>\n",
       "      <td>0.001338</td>\n",
       "    </tr>\n",
       "    <tr>\n",
       "      <th>Romania</th>\n",
       "      <td>0.001338</td>\n",
       "    </tr>\n",
       "    <tr>\n",
       "      <th>Indonesia</th>\n",
       "      <td>0.001338</td>\n",
       "    </tr>\n",
       "    <tr>\n",
       "      <th>Andorra</th>\n",
       "      <td>0.001338</td>\n",
       "    </tr>\n",
       "    <tr>\n",
       "      <th>Tanzania</th>\n",
       "      <td>0.001338</td>\n",
       "    </tr>\n",
       "    <tr>\n",
       "      <th>Egypt</th>\n",
       "      <td>0.001338</td>\n",
       "    </tr>\n",
       "    <tr>\n",
       "      <th>Cuba</th>\n",
       "      <td>0.001338</td>\n",
       "    </tr>\n",
       "    <tr>\n",
       "      <th>Cyprus</th>\n",
       "      <td>0.000669</td>\n",
       "    </tr>\n",
       "    <tr>\n",
       "      <th>Haiti</th>\n",
       "      <td>0.000669</td>\n",
       "    </tr>\n",
       "    <tr>\n",
       "      <th>Bhutan</th>\n",
       "      <td>0.000669</td>\n",
       "    </tr>\n",
       "    <tr>\n",
       "      <th>Ukraine</th>\n",
       "      <td>0.000669</td>\n",
       "    </tr>\n",
       "    <tr>\n",
       "      <th>Mauritius</th>\n",
       "      <td>0.000669</td>\n",
       "    </tr>\n",
       "    <tr>\n",
       "      <th>Peru</th>\n",
       "      <td>0.000669</td>\n",
       "    </tr>\n",
       "    <tr>\n",
       "      <th>Albania</th>\n",
       "      <td>0.000669</td>\n",
       "    </tr>\n",
       "    <tr>\n",
       "      <th>Pacific</th>\n",
       "      <td>0.000669</td>\n",
       "    </tr>\n",
       "    <tr>\n",
       "      <th>Malta</th>\n",
       "      <td>0.000669</td>\n",
       "    </tr>\n",
       "    <tr>\n",
       "      <th>Georgia</th>\n",
       "      <td>0.000669</td>\n",
       "    </tr>\n",
       "    <tr>\n",
       "      <th>Lithuania</th>\n",
       "      <td>0.000669</td>\n",
       "    </tr>\n",
       "    <tr>\n",
       "      <th>Taiwan</th>\n",
       "      <td>0.000669</td>\n",
       "    </tr>\n",
       "    <tr>\n",
       "      <th>Sudan</th>\n",
       "      <td>0.000669</td>\n",
       "    </tr>\n",
       "  </tbody>\n",
       "</table>\n",
       "</div>"
      ],
      "text/plain": [
       "                                                country\n",
       " English                                      89.890383\n",
       " German                                        4.484989\n",
       " French                                        2.277272\n",
       " Spain                                         2.273259\n",
       " Italian                                       0.322363\n",
       " Argentina                                     0.161850\n",
       " Dutch/Flemish                                 0.117709\n",
       " Portugal                                      0.070893\n",
       " Mexico                                        0.063536\n",
       " Japan                                         0.053504\n",
       " Brazil                                        0.036784\n",
       " Malaysia                                      0.028090\n",
       " Singapore                                     0.026752\n",
       " Russia and former USSR                        0.018726\n",
       " Sweden                                        0.016051\n",
       " Poland                                        0.016051\n",
       " India                                         0.013376\n",
       " Colombia                                      0.010701\n",
       " Hong Kong                                     0.010032\n",
       " Finland                                       0.008694\n",
       " Bolivia                                       0.008026\n",
       " Denmark                                       0.006688\n",
       " Philippines                                   0.005350\n",
       " Greece                                        0.005350\n",
       " Chile                                         0.005350\n",
       " Thailand                                      0.005350\n",
       " Norway                                        0.004682\n",
       " Tajikistan                                    0.004682\n",
       " Czech Republic                                0.004013\n",
       " China                                         0.004013\n",
       " Costa Rica                                    0.002675\n",
       " Israel                                        0.002675\n",
       " Turkey                                        0.002675\n",
       " Hungary                                       0.002675\n",
       " Montenegro                                    0.002675\n",
       " South Korea                                   0.002675\n",
       " Iran                                          0.002006\n",
       " International organisations and non-profits   0.002006\n",
       " Venezuela                                     0.002006\n",
       " Bulgaria                                      0.002006\n",
       " Caribbean                                     0.001338\n",
       " Romania                                       0.001338\n",
       " Indonesia                                     0.001338\n",
       " Andorra                                       0.001338\n",
       " Tanzania                                      0.001338\n",
       " Egypt                                         0.001338\n",
       " Cuba                                          0.001338\n",
       " Cyprus                                        0.000669\n",
       " Haiti                                         0.000669\n",
       " Bhutan                                        0.000669\n",
       " Ukraine                                       0.000669\n",
       " Mauritius                                     0.000669\n",
       " Peru                                          0.000669\n",
       " Albania                                       0.000669\n",
       " Pacific                                       0.000669\n",
       " Malta                                         0.000669\n",
       " Georgia                                       0.000669\n",
       " Lithuania                                     0.000669\n",
       " Taiwan                                        0.000669\n",
       " Sudan                                         0.000669"
      ]
     },
     "execution_count": 62,
     "metadata": {},
     "output_type": "execute_result"
    }
   ],
   "source": [
    "pd.DataFrame(books['country'].value_counts()*100/len(books)).head(60)"
   ]
  },
  {
   "cell_type": "markdown",
   "metadata": {},
   "source": [
    "# 유저"
   ]
  },
  {
   "cell_type": "code",
   "execution_count": null,
   "metadata": {},
   "outputs": [],
   "source": []
  },
  {
   "cell_type": "code",
   "execution_count": 64,
   "metadata": {},
   "outputs": [
    {
     "name": "stdout",
     "output_type": "stream",
     "text": [
      "<class 'pandas.core.frame.DataFrame'>\n",
      "RangeIndex: 68092 entries, 0 to 68091\n",
      "Data columns (total 3 columns):\n",
      " #   Column    Non-Null Count  Dtype  \n",
      "---  ------    --------------  -----  \n",
      " 0   user_id   68092 non-null  int64  \n",
      " 1   location  68092 non-null  object \n",
      " 2   age       40259 non-null  float64\n",
      "dtypes: float64(1), int64(1), object(1)\n",
      "memory usage: 1.6+ MB\n"
     ]
    }
   ],
   "source": [
    "users.info()"
   ]
  },
  {
   "cell_type": "code",
   "execution_count": null,
   "metadata": {},
   "outputs": [],
   "source": [
    "language_dict = { 'English': 1 }"
   ]
  }
 ],
 "metadata": {
  "kernelspec": {
   "display_name": "Python 3.8.5 ('base')",
   "language": "python",
   "name": "python3"
  },
  "language_info": {
   "codemirror_mode": {
    "name": "ipython",
    "version": 3
   },
   "file_extension": ".py",
   "mimetype": "text/x-python",
   "name": "python",
   "nbconvert_exporter": "python",
   "pygments_lexer": "ipython3",
   "version": "3.8.5"
  },
  "orig_nbformat": 4,
  "vscode": {
   "interpreter": {
    "hash": "d4d1e4263499bec80672ea0156c357c1ee493ec2b1c70f0acce89fc37c4a6abe"
   }
  }
 },
 "nbformat": 4,
 "nbformat_minor": 2
}
