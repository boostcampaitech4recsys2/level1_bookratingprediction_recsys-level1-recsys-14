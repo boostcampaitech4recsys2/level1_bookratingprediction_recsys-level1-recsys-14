{
 "cells": [
  {
   "cell_type": "markdown",
   "metadata": {},
   "source": [
    "##### 전처리"
   ]
  },
  {
   "cell_type": "code",
   "execution_count": null,
   "metadata": {},
   "outputs": [],
   "source": [
    "import numpy as np\n",
    "import pandas as pd\n",
    "import re\n",
    "import os\n",
    "from sklearn.model_selection import train_test_split\n",
    "import torch\n",
    "import torch.nn as nn\n",
    "from torch.utils.data import TensorDataset, DataLoader, Dataset\n",
    "import seaborn as sns\n",
    "import matplotlib.pyplot as plt"
   ]
  },
  {
   "cell_type": "code",
   "execution_count": null,
   "metadata": {},
   "outputs": [],
   "source": [
    " # load csv\n",
    "users = pd.read_csv(\"../data/users.csv\")\n",
    "books = pd.read_csv(\"../data/books.csv\")\n",
    "test = pd.read_csv(\"../data/test_ratings.csv\")\n",
    "train = pd.read_csv(\"../data/train_ratings.csv\")\n",
    "train_counts = train.groupby('user_id')['rating'].count().sort_values(ascending=False)\n",
    "\n",
    " # location 전처리\n",
    "users['location'] = users['location'].str.replace(r'[^0-9a-zA-Z:,]', '') # 특수문자 제거\n",
    "\n",
    "users['location_city'] = users['location'].apply(lambda x: x.split(',')[0].strip())\n",
    "users['location_state'] = users['location'].apply(lambda x: x.split(',')[1].strip())\n",
    "users['location_country'] = users['location'].apply(lambda x: x.split(',')[2].strip())\n",
    "\n",
    "users = users.replace('na', np.nan) #특수문자 제거로 n/a가 na로 바뀌게 되었습니다. 따라서 이를 컴퓨터가 인식할 수 있는 결측값으로 변환합니다.\n",
    "users = users.replace('', np.nan) # 일부 경우 , , ,으로 입력된 경우가 있었으므로 이런 경우에도 결측값으로 변환합니다.\n",
    "\n",
    "# publisher 전처리\n",
    "publisher_dict=(books['publisher'].value_counts()).to_dict()\n",
    "publisher_count_df = pd.DataFrame(publisher_dict.items(),columns = ['publisher','count'])\n",
    "publisher_count_df = publisher_count_df.sort_values(by=['count'], ascending = False)\n",
    "\n",
    "modify_list = publisher_count_df[publisher_count_df['count']>1].publisher.values\n",
    "\n",
    "books.loc[books[books['category'].notnull()].index, 'category'] = books[books['category'].notnull()]['category'].apply(lambda x: re.sub('[\\W_]+',' ',x).strip())\n",
    "books['category'] = books['category'].str.lower()\n",
    "books.loc[books[books['category'].notnull()].index, 'category'] = books[books['category'].notnull()]['category'].apply(lambda x: re.sub('[\\W_]+',' ',x).strip())\n",
    "books['category'] = books['category'].str.lower()"
   ]
  },
  {
   "cell_type": "code",
   "execution_count": null,
   "metadata": {},
   "outputs": [],
   "source": [
    "## 유저와 출판사 관계"
   ]
  },
  {
   "cell_type": "code",
   "execution_count": null,
   "metadata": {},
   "outputs": [],
   "source": [
    " # isbn을 기준으로 train과 books merge\n",
    "merge1 = train.merge(books, how='left', on='isbn')\n",
    "data = merge1.merge(users, how='inner', on='user_id')\n",
    "print('merge 결과 shape: ', data.shape)"
   ]
  },
  {
   "cell_type": "code",
   "execution_count": null,
   "metadata": {},
   "outputs": [],
   "source": [
    "data.columns"
   ]
  },
  {
   "cell_type": "code",
   "execution_count": null,
   "metadata": {},
   "outputs": [],
   "source": [
    " # ['user_id', 'publisher']로 그룹화 한뒤 유저별로 출판사마다 isbn의 개수를 세주었다.\n",
    "user_publisher_interactions = pd.DataFrame(data.groupby(['user_id', 'publisher'])['isbn'].count())\n",
    "user_publisher_interactions = user_publisher_interactions.reset_index()"
   ]
  },
  {
   "cell_type": "code",
   "execution_count": null,
   "metadata": {},
   "outputs": [],
   "source": [
    "user_publisher_interactions"
   ]
  },
  {
   "cell_type": "code",
   "execution_count": null,
   "metadata": {},
   "outputs": [],
   "source": [
    "user_publisher_interactions[(2 <= user_publisher_interactions['isbn']) & (user_publisher_interactions['isbn'] <  10)]"
   ]
  },
  {
   "cell_type": "code",
   "execution_count": null,
   "metadata": {},
   "outputs": [],
   "source": [
    "# boolean 인덱스로 해당 출판사에서 i권 이상 i + 1 권이하의 책을 구매한 합을 각각 repurchase에 저장한다.\n",
    "repurchase = []\n",
    "for i in range(2, 20):\n",
    "    repurchase.append(user_publisher_interactions[(i <= user_publisher_interactions['isbn']) & (user_publisher_interactions['isbn'] < i + 1)]['publisher'].count())\n",
    "repurchase = np.array(repurchase)"
   ]
  },
  {
   "cell_type": "code",
   "execution_count": null,
   "metadata": {},
   "outputs": [],
   "source": [
    "x = np.arange(len(repurchase))\n",
    "number = [i+2 for i in x]\n",
    "repurchase_user_cnt = repurchase\n",
    "\n",
    "plt.bar(x, repurchase_user_cnt)\n",
    "plt.xticks(x, number)\n",
    "\n",
    "plt.show"
   ]
  },
  {
   "cell_type": "code",
   "execution_count": null,
   "metadata": {},
   "outputs": [],
   "source": [
    "sum(repurchase)"
   ]
  },
  {
   "cell_type": "code",
   "execution_count": null,
   "metadata": {},
   "outputs": [],
   "source": [
    "user_publisher_interactions['publisher'].count()"
   ]
  },
  {
   "cell_type": "code",
   "execution_count": null,
   "metadata": {},
   "outputs": [],
   "source": [
    "sum(repurchase)/user_publisher_interactions['publisher'].count()"
   ]
  },
  {
   "cell_type": "code",
   "execution_count": null,
   "metadata": {},
   "outputs": [],
   "source": [
    "유저는 15프로 확률로 구매했던 출판사에서 책을 구매한다.(?)"
   ]
  }
 ],
 "metadata": {
  "kernelspec": {
   "display_name": "Python 3.6.9 64-bit",
   "language": "python",
   "name": "python3"
  },
  "language_info": {
   "codemirror_mode": {
    "name": "ipython",
    "version": 3
   },
   "file_extension": ".py",
   "mimetype": "text/x-python",
   "name": "python",
   "nbconvert_exporter": "python",
   "pygments_lexer": "ipython3",
   "version": "3.6.9"
  },
  "vscode": {
   "interpreter": {
    "hash": "31f2aee4e71d21fbe5cf8b01ff0e069b9275f58929596ceb00d14d90e3e16cd6"
   }
  }
 },
 "nbformat": 4,
 "nbformat_minor": 4
}
