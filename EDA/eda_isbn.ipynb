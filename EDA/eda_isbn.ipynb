{
 "cells": [
  {
   "cell_type": "code",
   "execution_count": null,
   "metadata": {},
   "outputs": [],
   "source": [
    "import pandas as pd\n",
    "import numpy as np\n",
    "import seaborn as sns\n",
    "import matplotlib.pyplot as plt"
   ]
  },
  {
   "cell_type": "code",
   "execution_count": null,
   "metadata": {},
   "outputs": [],
   "source": [
    "path='data/'\n",
    "\n",
    "users = pd.read_csv(path+'users.csv')\n",
    "books = pd.read_csv(path+'books.csv')\n",
    "ratings = pd.read_csv(path+'test_ratings.csv')\n",
    "isbns = pd.read_csv(path+'isbn_country.csv')\n",
    "print('users shape: ', users.shape)\n",
    "print('books shape: ', books.shape)\n",
    "print('ratings shape: ', ratings.shape)\n",
    "print('isbn shape: ', isbns.shape)"
   ]
  },
  {
   "cell_type": "code",
   "execution_count": null,
   "metadata": {},
   "outputs": [],
   "source": [
    "pd.options.display.max_rows = 64\n",
    "pd.options.display.max_columns = 64\n",
    "books['country'].value_counts()"
   ]
  },
  {
   "cell_type": "code",
   "execution_count": null,
   "metadata": {},
   "outputs": [],
   "source": [
    "for i in range(len(isbns)):\n",
    "    books.loc[books[\"isbn\"].str.startswith(str(isbns.iloc[i][0])), \"country\"] = isbns.iloc[i][1]\n",
    "#각 자리숫자에 가중치(1번째 10, 2번째 9 ...)를 곱하고 그 합이  11의 배수일때 올바른 isbn\n",
    "def solve(x):\n",
    "    cnt = 0\n",
    "    for i in range(10):\n",
    "        try: cnt += (int(x[i]) * (10 - i))\n",
    "        except: pass\n",
    "    if cnt % 11 == 0: return True\n",
    "    else: return False\n",
    "sum(map(solve, books[\"isbn\"]))\n",
    "len(books[\"isbn\"])"
   ]
  }
 ],
 "metadata": {
  "kernelspec": {
   "display_name": "Python 3.6.9 64-bit",
   "language": "python",
   "name": "python3"
  },
  "language_info": {
   "name": "python",
   "version": "3.6.9"
  },
  "orig_nbformat": 4,
  "vscode": {
   "interpreter": {
    "hash": "31f2aee4e71d21fbe5cf8b01ff0e069b9275f58929596ceb00d14d90e3e16cd6"
   }
  }
 },
 "nbformat": 4,
 "nbformat_minor": 2
}
