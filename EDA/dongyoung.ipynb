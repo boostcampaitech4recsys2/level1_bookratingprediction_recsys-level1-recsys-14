{
 "cells": [
  {
   "cell_type": "code",
   "execution_count": 1,
   "metadata": {},
   "outputs": [
    {
     "data": {
      "text/html": [
       "<div>\n",
       "<style scoped>\n",
       "    .dataframe tbody tr th:only-of-type {\n",
       "        vertical-align: middle;\n",
       "    }\n",
       "\n",
       "    .dataframe tbody tr th {\n",
       "        vertical-align: top;\n",
       "    }\n",
       "\n",
       "    .dataframe thead th {\n",
       "        text-align: right;\n",
       "    }\n",
       "</style>\n",
       "<table border=\"1\" class=\"dataframe\">\n",
       "  <thead>\n",
       "    <tr style=\"text-align: right;\">\n",
       "      <th></th>\n",
       "      <th>user_id</th>\n",
       "      <th>location</th>\n",
       "      <th>age</th>\n",
       "    </tr>\n",
       "  </thead>\n",
       "  <tbody>\n",
       "    <tr>\n",
       "      <th>0</th>\n",
       "      <td>8</td>\n",
       "      <td>timmins, ontario, canada</td>\n",
       "      <td>NaN</td>\n",
       "    </tr>\n",
       "    <tr>\n",
       "      <th>1</th>\n",
       "      <td>11400</td>\n",
       "      <td>ottawa, ontario, canada</td>\n",
       "      <td>49.0</td>\n",
       "    </tr>\n",
       "    <tr>\n",
       "      <th>2</th>\n",
       "      <td>11676</td>\n",
       "      <td>n/a, n/a, n/a</td>\n",
       "      <td>NaN</td>\n",
       "    </tr>\n",
       "    <tr>\n",
       "      <th>3</th>\n",
       "      <td>67544</td>\n",
       "      <td>toronto, ontario, canada</td>\n",
       "      <td>30.0</td>\n",
       "    </tr>\n",
       "    <tr>\n",
       "      <th>4</th>\n",
       "      <td>85526</td>\n",
       "      <td>victoria, british columbia, canada</td>\n",
       "      <td>36.0</td>\n",
       "    </tr>\n",
       "  </tbody>\n",
       "</table>\n",
       "</div>"
      ],
      "text/plain": [
       "   user_id                            location   age\n",
       "0        8            timmins, ontario, canada   NaN\n",
       "1    11400             ottawa, ontario, canada  49.0\n",
       "2    11676                       n/a, n/a, n/a   NaN\n",
       "3    67544            toronto, ontario, canada  30.0\n",
       "4    85526  victoria, british columbia, canada  36.0"
      ]
     },
     "execution_count": 1,
     "metadata": {},
     "output_type": "execute_result"
    }
   ],
   "source": [
    "import pandas as pd\n",
    "import numpy as np\n",
    "import matplotlib.pyplot as plt\n",
    "\n",
    "df = pd.read_csv('/opt/ml/input/code/data/users.csv')\n",
    "df.head()"
   ]
  },
  {
   "cell_type": "code",
   "execution_count": 2,
   "metadata": {},
   "outputs": [
    {
     "name": "stdout",
     "output_type": "stream",
     "text": [
      "age isna: 40.88%\n",
      "0~10: 0.15%\n",
      "10~20: 6.89%\n",
      "20~30: 16.75%\n",
      "30~40: 15.35%\n",
      "40~50: 9.79%\n",
      "50~60: 6.86%\n",
      "60~70: 2.65%\n",
      "70~80: 0.61%\n",
      "80~90: 0.06%\n",
      "total: 99.9853139869588%\n"
     ]
    }
   ],
   "source": [
    "isna= df['age'].isna().sum() / len(df['age'])\n",
    "print(f'age isna: {isna*100:.2f}%')\n",
    "\n",
    "sum=0\n",
    "for i in range(9):\n",
    "    r = (df['age'].where((df['age']>i*10) & (df['age']<=(i+1)*10)) == df['age']).sum() / len(df['age'])\n",
    "    print(f'{i*10}~{(i+1)*10}: {r*100:.2f}%')\n",
    "    sum += r\n",
    "\n",
    "print(f'total: {isna*100 + sum*100}%')"
   ]
  },
  {
   "cell_type": "code",
   "execution_count": 3,
   "metadata": {},
   "outputs": [
    {
     "data": {
      "text/plain": [
       "(array([7.400e+01, 7.320e+02, 3.244e+03, 3.645e+03, 6.034e+03, 6.009e+03,\n",
       "        4.369e+03, 4.001e+03, 3.419e+03, 2.378e+03, 2.560e+03, 1.823e+03,\n",
       "        1.027e+03, 4.770e+02, 3.040e+02, 1.110e+02, 3.300e+01, 7.000e+00,\n",
       "        6.000e+00, 6.000e+00]),\n",
       " array([ 5. ,  9.7, 14.4, 19.1, 23.8, 28.5, 33.2, 37.9, 42.6, 47.3, 52. ,\n",
       "        56.7, 61.4, 66.1, 70.8, 75.5, 80.2, 84.9, 89.6, 94.3, 99. ]),\n",
       " <BarContainer object of 20 artists>)"
      ]
     },
     "execution_count": 3,
     "metadata": {},
     "output_type": "execute_result"
    },
    {
     "data": {
      "image/png": "[encoded data removed]",
      "text/plain": [
       "<Figure size 640x480 with 1 Axes>"
      ]
     },
     "metadata": {},
     "output_type": "display_data"
    }
   ],
   "source": [
    "plt.hist(df['age'].to_numpy(), bins=20)"
   ]
  },
  {
   "cell_type": "code",
   "execution_count": 76,
   "metadata": {},
   "outputs": [
    {
     "data": {
      "text/html": [
       "<div>\n",
       "<style scoped>\n",
       "    .dataframe tbody tr th:only-of-type {\n",
       "        vertical-align: middle;\n",
       "    }\n",
       "\n",
       "    .dataframe tbody tr th {\n",
       "        vertical-align: top;\n",
       "    }\n",
       "\n",
       "    .dataframe thead th {\n",
       "        text-align: right;\n",
       "    }\n",
       "</style>\n",
       "<table border=\"1\" class=\"dataframe\">\n",
       "  <thead>\n",
       "    <tr style=\"text-align: right;\">\n",
       "      <th></th>\n",
       "      <th>isbn</th>\n",
       "      <th>book_title</th>\n",
       "      <th>book_author</th>\n",
       "      <th>year_of_publication</th>\n",
       "      <th>publisher</th>\n",
       "      <th>img_url</th>\n",
       "      <th>language</th>\n",
       "      <th>category</th>\n",
       "      <th>summary</th>\n",
       "      <th>img_path</th>\n",
       "    </tr>\n",
       "  </thead>\n",
       "  <tbody>\n",
       "    <tr>\n",
       "      <th>0</th>\n",
       "      <td>0002005018</td>\n",
       "      <td>Clara Callan</td>\n",
       "      <td>Richard Bruce Wright</td>\n",
       "      <td>2001.0</td>\n",
       "      <td>HarperFlamingo Canada</td>\n",
       "      <td>http://images.amazon.com/images/P/0002005018.0...</td>\n",
       "      <td>en</td>\n",
       "      <td>['Actresses']</td>\n",
       "      <td>In a small town in Canada, Clara Callan reluct...</td>\n",
       "      <td>images/0002005018.01.THUMBZZZ.jpg</td>\n",
       "    </tr>\n",
       "    <tr>\n",
       "      <th>1</th>\n",
       "      <td>0060973129</td>\n",
       "      <td>Decision in Normandy</td>\n",
       "      <td>Carlo D'Este</td>\n",
       "      <td>1991.0</td>\n",
       "      <td>HarperPerennial</td>\n",
       "      <td>http://images.amazon.com/images/P/0060973129.0...</td>\n",
       "      <td>en</td>\n",
       "      <td>['1940-1949']</td>\n",
       "      <td>Here, for the first time in paperback, is an o...</td>\n",
       "      <td>images/0060973129.01.THUMBZZZ.jpg</td>\n",
       "    </tr>\n",
       "    <tr>\n",
       "      <th>2</th>\n",
       "      <td>0374157065</td>\n",
       "      <td>Flu: The Story of the Great Influenza Pandemic...</td>\n",
       "      <td>Gina Bari Kolata</td>\n",
       "      <td>1999.0</td>\n",
       "      <td>Farrar Straus Giroux</td>\n",
       "      <td>http://images.amazon.com/images/P/0374157065.0...</td>\n",
       "      <td>en</td>\n",
       "      <td>['Medical']</td>\n",
       "      <td>Describes the great flu epidemic of 1918, an o...</td>\n",
       "      <td>images/0374157065.01.THUMBZZZ.jpg</td>\n",
       "    </tr>\n",
       "    <tr>\n",
       "      <th>3</th>\n",
       "      <td>0399135782</td>\n",
       "      <td>The Kitchen God's Wife</td>\n",
       "      <td>Amy Tan</td>\n",
       "      <td>1991.0</td>\n",
       "      <td>Putnam Pub Group</td>\n",
       "      <td>http://images.amazon.com/images/P/0399135782.0...</td>\n",
       "      <td>en</td>\n",
       "      <td>['Fiction']</td>\n",
       "      <td>A Chinese immigrant who is convinced she is dy...</td>\n",
       "      <td>images/0399135782.01.THUMBZZZ.jpg</td>\n",
       "    </tr>\n",
       "    <tr>\n",
       "      <th>4</th>\n",
       "      <td>0425176428</td>\n",
       "      <td>What If?: The World's Foremost Military Histor...</td>\n",
       "      <td>Robert Cowley</td>\n",
       "      <td>2000.0</td>\n",
       "      <td>Berkley Publishing Group</td>\n",
       "      <td>http://images.amazon.com/images/P/0425176428.0...</td>\n",
       "      <td>en</td>\n",
       "      <td>['History']</td>\n",
       "      <td>Essays by respected military historians, inclu...</td>\n",
       "      <td>images/0425176428.01.THUMBZZZ.jpg</td>\n",
       "    </tr>\n",
       "  </tbody>\n",
       "</table>\n",
       "</div>"
      ],
      "text/plain": [
       "         isbn                                         book_title  \\\n",
       "0  0002005018                                       Clara Callan   \n",
       "1  0060973129                               Decision in Normandy   \n",
       "2  0374157065  Flu: The Story of the Great Influenza Pandemic...   \n",
       "3  0399135782                             The Kitchen God's Wife   \n",
       "4  0425176428  What If?: The World's Foremost Military Histor...   \n",
       "\n",
       "            book_author  year_of_publication                 publisher  \\\n",
       "0  Richard Bruce Wright               2001.0     HarperFlamingo Canada   \n",
       "1          Carlo D'Este               1991.0           HarperPerennial   \n",
       "2      Gina Bari Kolata               1999.0      Farrar Straus Giroux   \n",
       "3               Amy Tan               1991.0          Putnam Pub Group   \n",
       "4         Robert Cowley               2000.0  Berkley Publishing Group   \n",
       "\n",
       "                                             img_url language       category  \\\n",
       "0  http://images.amazon.com/images/P/0002005018.0...       en  ['Actresses']   \n",
       "1  http://images.amazon.com/images/P/0060973129.0...       en  ['1940-1949']   \n",
       "2  http://images.amazon.com/images/P/0374157065.0...       en    ['Medical']   \n",
       "3  http://images.amazon.com/images/P/0399135782.0...       en    ['Fiction']   \n",
       "4  http://images.amazon.com/images/P/0425176428.0...       en    ['History']   \n",
       "\n",
       "                                             summary  \\\n",
       "0  In a small town in Canada, Clara Callan reluct...   \n",
       "1  Here, for the first time in paperback, is an o...   \n",
       "2  Describes the great flu epidemic of 1918, an o...   \n",
       "3  A Chinese immigrant who is convinced she is dy...   \n",
       "4  Essays by respected military historians, inclu...   \n",
       "\n",
       "                            img_path  \n",
       "0  images/0002005018.01.THUMBZZZ.jpg  \n",
       "1  images/0060973129.01.THUMBZZZ.jpg  \n",
       "2  images/0374157065.01.THUMBZZZ.jpg  \n",
       "3  images/0399135782.01.THUMBZZZ.jpg  \n",
       "4  images/0425176428.01.THUMBZZZ.jpg  "
      ]
     },
     "execution_count": 76,
     "metadata": {},
     "output_type": "execute_result"
    }
   ],
   "source": [
    "df = pd.read_csv('/opt/ml/input/code/data/books.csv')\n",
    "df.head()"
   ]
  },
  {
   "cell_type": "code",
   "execution_count": 77,
   "metadata": {},
   "outputs": [
    {
     "name": "stdout",
     "output_type": "stream",
     "text": [
      "isna: 44.95%\n",
      "149570\n"
     ]
    }
   ],
   "source": [
    "isna = df['summary'].isna().sum() / len(df['summary'])\n",
    "print(f'isna: {isna*100:.2f}%')\n",
    "print(len(df))"
   ]
  },
  {
   "cell_type": "code",
   "execution_count": 78,
   "metadata": {},
   "outputs": [
    {
     "name": "stdout",
     "output_type": "stream",
     "text": [
      "67227\n"
     ]
    }
   ],
   "source": [
    "print(df['summary'].isna().sum())"
   ]
  },
  {
   "cell_type": "code",
   "execution_count": 79,
   "metadata": {},
   "outputs": [],
   "source": [
    "# df = pd.read_csv('/opt/ml/input/code/data/books.csv')\n",
    "# df = df.drop([i for i, x in enumerate(df['summary'].isna()) if x])\n",
    "# # summ = df['summary'].astype('s|')\n",
    "\n",
    "# import re\n",
    "# from nltk.tokenize import word_tokenize, sent_tokenize\n",
    "\n",
    "# def preprocess(sen: str) -> str:\n",
    "#     sentence = re.sub(r'[^\\uAC00-\\uD7A30-9a-zA-Z\\s]', '', sen)\n",
    "#     sentence = sentence.replace(\"\\n\", \"\")\n",
    "#     return sentence.strip()\n",
    "\n",
    "# summ = pd.DataFrame(df['summary'])\n",
    "# summ['summ_preprocess'] = summ['summary'].apply(lambda sen: preprocess(sen))\n",
    "# summ = summ.reset_index(drop=True)\n",
    "# summ.head(20)"
   ]
  },
  {
   "cell_type": "code",
   "execution_count": 82,
   "metadata": {},
   "outputs": [
    {
     "data": {
      "text/html": [
       "<div>\n",
       "<style scoped>\n",
       "    .dataframe tbody tr th:only-of-type {\n",
       "        vertical-align: middle;\n",
       "    }\n",
       "\n",
       "    .dataframe tbody tr th {\n",
       "        vertical-align: top;\n",
       "    }\n",
       "\n",
       "    .dataframe thead th {\n",
       "        text-align: right;\n",
       "    }\n",
       "</style>\n",
       "<table border=\"1\" class=\"dataframe\">\n",
       "  <thead>\n",
       "    <tr style=\"text-align: right;\">\n",
       "      <th></th>\n",
       "      <th>sen</th>\n",
       "      <th>preprocess</th>\n",
       "    </tr>\n",
       "  </thead>\n",
       "  <tbody>\n",
       "    <tr>\n",
       "      <th>0</th>\n",
       "      <td>In a small town in Canada, Clara Callan reluct...</td>\n",
       "      <td>In a small town in Canada, Clara Callan reluct...</td>\n",
       "    </tr>\n",
       "    <tr>\n",
       "      <th>1</th>\n",
       "      <td>Here, for the first time in paperback, is an o...</td>\n",
       "      <td>Here, for the first time in paperback, is an o...</td>\n",
       "    </tr>\n",
       "    <tr>\n",
       "      <th>2</th>\n",
       "      <td>Nationa\\nadvertising in Military History.</td>\n",
       "      <td>Nationa advertising in Military History.</td>\n",
       "    </tr>\n",
       "    <tr>\n",
       "      <th>3</th>\n",
       "      <td>Describes the great flu epidemic of 1918, an o...</td>\n",
       "      <td>Describes the great flu epidemic of 1918, an o...</td>\n",
       "    </tr>\n",
       "    <tr>\n",
       "      <th>4</th>\n",
       "      <td>A Chinese immigrant who is convinced she is dy...</td>\n",
       "      <td>A Chinese immigrant who is convinced she is dy...</td>\n",
       "    </tr>\n",
       "    <tr>\n",
       "      <th>5</th>\n",
       "      <td>Essays by respected military historians, inclu...</td>\n",
       "      <td>Essays by respected military historians, inclu...</td>\n",
       "    </tr>\n",
       "    <tr>\n",
       "      <th>6</th>\n",
       "      <td>Now back in print, Ann Beattie&amp;#39;s finest sh...</td>\n",
       "      <td>Now back in print, Ann Beattie&amp;#39;s finest sh...</td>\n",
       "    </tr>\n",
       "    <tr>\n",
       "      <th>7</th>\n",
       "      <td>Another story based in the fictional rural tow...</td>\n",
       "      <td>Another story based in the fictional rural tow...</td>\n",
       "    </tr>\n",
       "    <tr>\n",
       "      <th>8</th>\n",
       "      <td>This eye-opening, well-researched examination ...</td>\n",
       "      <td>This eye-opening, well-researched examination ...</td>\n",
       "    </tr>\n",
       "    <tr>\n",
       "      <th>9</th>\n",
       "      <td>Illustrations.</td>\n",
       "      <td>Illustrations.</td>\n",
       "    </tr>\n",
       "  </tbody>\n",
       "</table>\n",
       "</div>"
      ],
      "text/plain": [
       "                                                 sen  \\\n",
       "0  In a small town in Canada, Clara Callan reluct...   \n",
       "1  Here, for the first time in paperback, is an o...   \n",
       "2          Nationa\\nadvertising in Military History.   \n",
       "3  Describes the great flu epidemic of 1918, an o...   \n",
       "4  A Chinese immigrant who is convinced she is dy...   \n",
       "5  Essays by respected military historians, inclu...   \n",
       "6  Now back in print, Ann Beattie&#39;s finest sh...   \n",
       "7  Another story based in the fictional rural tow...   \n",
       "8  This eye-opening, well-researched examination ...   \n",
       "9                                     Illustrations.   \n",
       "\n",
       "                                          preprocess  \n",
       "0  In a small town in Canada, Clara Callan reluct...  \n",
       "1  Here, for the first time in paperback, is an o...  \n",
       "2           Nationa advertising in Military History.  \n",
       "3  Describes the great flu epidemic of 1918, an o...  \n",
       "4  A Chinese immigrant who is convinced she is dy...  \n",
       "5  Essays by respected military historians, inclu...  \n",
       "6  Now back in print, Ann Beattie&#39;s finest sh...  \n",
       "7  Another story based in the fictional rural tow...  \n",
       "8  This eye-opening, well-researched examination ...  \n",
       "9                                     Illustrations.  "
      ]
     },
     "execution_count": 82,
     "metadata": {},
     "output_type": "execute_result"
    }
   ],
   "source": [
    "df = pd.read_csv('/opt/ml/input/code/data/books.csv')\n",
    "df = df.drop([i for i, x in enumerate(df['summary'].isna()) if x])\n",
    "# summ = df['summary'].astype('s|')\n",
    "\n",
    "import re\n",
    "from nltk.tokenize import word_tokenize, sent_tokenize\n",
    "\n",
    "w2v_train_sen = []\n",
    "\n",
    "def preprocess(sen: str) -> str:\n",
    "    w2v_train_sen.extend(sent_tokenize(sen))\n",
    "\n",
    "def preprocess2(sen: str) -> str:\n",
    "    sentence = sen.replace('\\n', ' ')\n",
    "    return sentence.strip()\n",
    "\n",
    "summ = pd.DataFrame(df['summary'])\n",
    "summ = summ.reset_index(drop=True)\n",
    "summ['summary'].apply(lambda sen: preprocess(sen))\n",
    "\n",
    "w2v_train_sen_df = pd.DataFrame(w2v_train_sen, columns=['sen'])\n",
    "w2v_train_sen_df['preprocess'] = w2v_train_sen_df['sen'].apply(lambda sen: preprocess2(sen))\n",
    "w2v_train_sen_df.head(10)"
   ]
  },
  {
   "cell_type": "code",
   "execution_count": 83,
   "metadata": {},
   "outputs": [
    {
     "data": {
      "text/html": [
       "<div>\n",
       "<style scoped>\n",
       "    .dataframe tbody tr th:only-of-type {\n",
       "        vertical-align: middle;\n",
       "    }\n",
       "\n",
       "    .dataframe tbody tr th {\n",
       "        vertical-align: top;\n",
       "    }\n",
       "\n",
       "    .dataframe thead th {\n",
       "        text-align: right;\n",
       "    }\n",
       "</style>\n",
       "<table border=\"1\" class=\"dataframe\">\n",
       "  <thead>\n",
       "    <tr style=\"text-align: right;\">\n",
       "      <th></th>\n",
       "      <th>sen</th>\n",
       "      <th>preprocess</th>\n",
       "      <th>token</th>\n",
       "    </tr>\n",
       "  </thead>\n",
       "  <tbody>\n",
       "    <tr>\n",
       "      <th>0</th>\n",
       "      <td>In a small town in Canada, Clara Callan reluct...</td>\n",
       "      <td>In a small town in Canada, Clara Callan reluct...</td>\n",
       "      <td>[In, a, small, town, in, Canada, ,, Clara, Cal...</td>\n",
       "    </tr>\n",
       "    <tr>\n",
       "      <th>1</th>\n",
       "      <td>Here, for the first time in paperback, is an o...</td>\n",
       "      <td>Here, for the first time in paperback, is an o...</td>\n",
       "      <td>[Here, ,, for, the, first, time, in, paperback...</td>\n",
       "    </tr>\n",
       "    <tr>\n",
       "      <th>2</th>\n",
       "      <td>Nationa\\nadvertising in Military History.</td>\n",
       "      <td>Nationa advertising in Military History.</td>\n",
       "      <td>[Nationa, advertising, in, Military, History, .]</td>\n",
       "    </tr>\n",
       "    <tr>\n",
       "      <th>3</th>\n",
       "      <td>Describes the great flu epidemic of 1918, an o...</td>\n",
       "      <td>Describes the great flu epidemic of 1918, an o...</td>\n",
       "      <td>[Describes, the, great, flu, epidemic, of, 191...</td>\n",
       "    </tr>\n",
       "    <tr>\n",
       "      <th>4</th>\n",
       "      <td>A Chinese immigrant who is convinced she is dy...</td>\n",
       "      <td>A Chinese immigrant who is convinced she is dy...</td>\n",
       "      <td>[A, Chinese, immigrant, who, is, convinced, sh...</td>\n",
       "    </tr>\n",
       "    <tr>\n",
       "      <th>5</th>\n",
       "      <td>Essays by respected military historians, inclu...</td>\n",
       "      <td>Essays by respected military historians, inclu...</td>\n",
       "      <td>[Essays, by, respected, military, historians, ...</td>\n",
       "    </tr>\n",
       "    <tr>\n",
       "      <th>6</th>\n",
       "      <td>Now back in print, Ann Beattie&amp;#39;s finest sh...</td>\n",
       "      <td>Now back in print, Ann Beattie&amp;#39;s finest sh...</td>\n",
       "      <td>[Now, back, in, print, ,, Ann, Beattie, &amp;, #, ...</td>\n",
       "    </tr>\n",
       "    <tr>\n",
       "      <th>7</th>\n",
       "      <td>Another story based in the fictional rural tow...</td>\n",
       "      <td>Another story based in the fictional rural tow...</td>\n",
       "      <td>[Another, story, based, in, the, fictional, ru...</td>\n",
       "    </tr>\n",
       "    <tr>\n",
       "      <th>8</th>\n",
       "      <td>This eye-opening, well-researched examination ...</td>\n",
       "      <td>This eye-opening, well-researched examination ...</td>\n",
       "      <td>[This, eye-opening, ,, well-researched, examin...</td>\n",
       "    </tr>\n",
       "    <tr>\n",
       "      <th>9</th>\n",
       "      <td>Illustrations.</td>\n",
       "      <td>Illustrations.</td>\n",
       "      <td>[Illustrations, .]</td>\n",
       "    </tr>\n",
       "  </tbody>\n",
       "</table>\n",
       "</div>"
      ],
      "text/plain": [
       "                                                 sen  \\\n",
       "0  In a small town in Canada, Clara Callan reluct...   \n",
       "1  Here, for the first time in paperback, is an o...   \n",
       "2          Nationa\\nadvertising in Military History.   \n",
       "3  Describes the great flu epidemic of 1918, an o...   \n",
       "4  A Chinese immigrant who is convinced she is dy...   \n",
       "5  Essays by respected military historians, inclu...   \n",
       "6  Now back in print, Ann Beattie&#39;s finest sh...   \n",
       "7  Another story based in the fictional rural tow...   \n",
       "8  This eye-opening, well-researched examination ...   \n",
       "9                                     Illustrations.   \n",
       "\n",
       "                                          preprocess  \\\n",
       "0  In a small town in Canada, Clara Callan reluct...   \n",
       "1  Here, for the first time in paperback, is an o...   \n",
       "2           Nationa advertising in Military History.   \n",
       "3  Describes the great flu epidemic of 1918, an o...   \n",
       "4  A Chinese immigrant who is convinced she is dy...   \n",
       "5  Essays by respected military historians, inclu...   \n",
       "6  Now back in print, Ann Beattie&#39;s finest sh...   \n",
       "7  Another story based in the fictional rural tow...   \n",
       "8  This eye-opening, well-researched examination ...   \n",
       "9                                     Illustrations.   \n",
       "\n",
       "                                               token  \n",
       "0  [In, a, small, town, in, Canada, ,, Clara, Cal...  \n",
       "1  [Here, ,, for, the, first, time, in, paperback...  \n",
       "2   [Nationa, advertising, in, Military, History, .]  \n",
       "3  [Describes, the, great, flu, epidemic, of, 191...  \n",
       "4  [A, Chinese, immigrant, who, is, convinced, sh...  \n",
       "5  [Essays, by, respected, military, historians, ...  \n",
       "6  [Now, back, in, print, ,, Ann, Beattie, &, #, ...  \n",
       "7  [Another, story, based, in, the, fictional, ru...  \n",
       "8  [This, eye-opening, ,, well-researched, examin...  \n",
       "9                                 [Illustrations, .]  "
      ]
     },
     "execution_count": 83,
     "metadata": {},
     "output_type": "execute_result"
    }
   ],
   "source": [
    "w2v_train_sen_df['token'] = w2v_train_sen_df['preprocess'].apply(lambda sen: word_tokenize(sen))\n",
    "w2v_train_sen_df.head(10)"
   ]
  },
  {
   "cell_type": "code",
   "execution_count": 84,
   "metadata": {},
   "outputs": [
    {
     "name": "stdout",
     "output_type": "stream",
     "text": [
      "['Now', 'back', 'in', 'print', ',', 'Ann', 'Beattie', '&', '#', '39', ';', 's', 'finest', 'short', 'story', 'collection', ',', 'reissued', 'to', 'accompany', 'the', 'publication', 'of', 'her', 'latest', 'novel', ',', '&', 'quot', ';', 'The', 'Doctor', '&', '#', '39', ';', 's', 'House', '.']\n"
     ]
    }
   ],
   "source": [
    "print(w2v_train_sen_df['token'][6])"
   ]
  },
  {
   "cell_type": "code",
   "execution_count": 74,
   "metadata": {},
   "outputs": [],
   "source": [
    "from gensim.models import Word2Vec\n",
    "from gensim.models import KeyedVectors\n",
    "\n",
    "model = Word2Vec(sentences=w2v_train_sen_df['token'], vector_size=256, window=7, min_count=5, workers=4, sg=1) # 1 - skip gram, 0 - cbow"
   ]
  },
  {
   "cell_type": "code",
   "execution_count": 75,
   "metadata": {},
   "outputs": [
    {
     "name": "stdout",
     "output_type": "stream",
     "text": [
      "[('throne', 0.8317713141441345), ('prince', 0.7982721328735352), ('knight', 0.7959052920341492), ('sorcerer', 0.790558934211731), ('sorceress', 0.7901029586791992), ('Mordred', 0.7892853617668152), ('crown', 0.7748513221740723), ('kingdom', 0.7616322040557861), ('queen', 0.7543469071388245), ('ruler', 0.7516805529594421)]\n"
     ]
    }
   ],
   "source": [
    "model_result = model.wv.most_similar('king')\n",
    "print(model_result) # skip gram"
   ]
  },
  {
   "cell_type": "code",
   "execution_count": 72,
   "metadata": {},
   "outputs": [
    {
     "name": "stdout",
     "output_type": "stream",
     "text": [
      "[('queen', 0.8770656585693359), ('wizard', 0.8570755124092102), ('clan', 0.8356361985206604), ('throne', 0.8234137892723083), ('prince', 0.8083016276359558), ('murderer', 0.8027702569961548), ('princess', 0.7958220839500427), ('warrior', 0.787334680557251), ('mistress', 0.7868860363960266), ('enemy', 0.7849822044372559)]\n"
     ]
    }
   ],
   "source": [
    "model_result = model.wv.most_similar('king')\n",
    "print(model_result) # cbow"
   ]
  },
  {
   "cell_type": "code",
   "execution_count": 15,
   "metadata": {},
   "outputs": [
    {
     "ename": "TypeError",
     "evalue": "argument 'files': 'type' object cannot be converted to 'PyString'",
     "output_type": "error",
     "traceback": [
      "\u001b[0;31m---------------------------------------------------------------------------\u001b[0m",
      "\u001b[0;31mTypeError\u001b[0m                                 Traceback (most recent call last)",
      "\u001b[1;32m/opt/ml/input/test.ipynb 셀 6\u001b[0m in \u001b[0;36m<cell line: 19>\u001b[0;34m()\u001b[0m\n\u001b[1;32m      <a href='vscode-notebook-cell://ssh-remote%2Baistage/opt/ml/input/test.ipynb#W6sdnNjb2RlLXJlbW90ZQ%3D%3D?line=3'>4</a>\u001b[0m args \u001b[39m=\u001b[39m easydict\u001b[39m.\u001b[39mEasyDict({\n\u001b[1;32m      <a href='vscode-notebook-cell://ssh-remote%2Baistage/opt/ml/input/test.ipynb#W6sdnNjb2RlLXJlbW90ZQ%3D%3D?line=4'>5</a>\u001b[0m     \u001b[39m\"\u001b[39m\u001b[39mcorpus_file\u001b[39m\u001b[39m\"\u001b[39m:\u001b[39mstr\u001b[39m,\n\u001b[1;32m      <a href='vscode-notebook-cell://ssh-remote%2Baistage/opt/ml/input/test.ipynb#W6sdnNjb2RlLXJlbW90ZQ%3D%3D?line=5'>6</a>\u001b[0m     \u001b[39m\"\u001b[39m\u001b[39mvocab_size\u001b[39m\u001b[39m\"\u001b[39m:\u001b[39m22000\u001b[39m,\n\u001b[1;32m      <a href='vscode-notebook-cell://ssh-remote%2Baistage/opt/ml/input/test.ipynb#W6sdnNjb2RlLXJlbW90ZQ%3D%3D?line=6'>7</a>\u001b[0m     \u001b[39m\"\u001b[39m\u001b[39mlimit_alphabet\u001b[39m\u001b[39m\"\u001b[39m:\u001b[39m6000\u001b[39m\n\u001b[1;32m      <a href='vscode-notebook-cell://ssh-remote%2Baistage/opt/ml/input/test.ipynb#W6sdnNjb2RlLXJlbW90ZQ%3D%3D?line=7'>8</a>\u001b[0m })\n\u001b[1;32m     <a href='vscode-notebook-cell://ssh-remote%2Baistage/opt/ml/input/test.ipynb#W6sdnNjb2RlLXJlbW90ZQ%3D%3D?line=9'>10</a>\u001b[0m tokenizer \u001b[39m=\u001b[39m BertWordPieceTokenizer(\n\u001b[1;32m     <a href='vscode-notebook-cell://ssh-remote%2Baistage/opt/ml/input/test.ipynb#W6sdnNjb2RlLXJlbW90ZQ%3D%3D?line=10'>11</a>\u001b[0m     vocab\u001b[39m=\u001b[39m\u001b[39mNone\u001b[39;00m,\n\u001b[1;32m     <a href='vscode-notebook-cell://ssh-remote%2Baistage/opt/ml/input/test.ipynb#W6sdnNjb2RlLXJlbW90ZQ%3D%3D?line=11'>12</a>\u001b[0m     clean_text\u001b[39m=\u001b[39m\u001b[39mTrue\u001b[39;00m,\n\u001b[0;32m   (...)\u001b[0m\n\u001b[1;32m     <a href='vscode-notebook-cell://ssh-remote%2Baistage/opt/ml/input/test.ipynb#W6sdnNjb2RlLXJlbW90ZQ%3D%3D?line=15'>16</a>\u001b[0m     wordpieces_prefix\u001b[39m=\u001b[39m\u001b[39m\"\u001b[39m\u001b[39m##\u001b[39m\u001b[39m\"\u001b[39m\n\u001b[1;32m     <a href='vscode-notebook-cell://ssh-remote%2Baistage/opt/ml/input/test.ipynb#W6sdnNjb2RlLXJlbW90ZQ%3D%3D?line=16'>17</a>\u001b[0m )\n\u001b[0;32m---> <a href='vscode-notebook-cell://ssh-remote%2Baistage/opt/ml/input/test.ipynb#W6sdnNjb2RlLXJlbW90ZQ%3D%3D?line=18'>19</a>\u001b[0m tokenizer\u001b[39m.\u001b[39;49mtrain(\n\u001b[1;32m     <a href='vscode-notebook-cell://ssh-remote%2Baistage/opt/ml/input/test.ipynb#W6sdnNjb2RlLXJlbW90ZQ%3D%3D?line=19'>20</a>\u001b[0m     files\u001b[39m=\u001b[39;49m[args\u001b[39m.\u001b[39;49mcorpus_file],\n\u001b[1;32m     <a href='vscode-notebook-cell://ssh-remote%2Baistage/opt/ml/input/test.ipynb#W6sdnNjb2RlLXJlbW90ZQ%3D%3D?line=20'>21</a>\u001b[0m     limit_alphabet\u001b[39m=\u001b[39;49margs\u001b[39m.\u001b[39;49mlimit_alphabet,\n\u001b[1;32m     <a href='vscode-notebook-cell://ssh-remote%2Baistage/opt/ml/input/test.ipynb#W6sdnNjb2RlLXJlbW90ZQ%3D%3D?line=21'>22</a>\u001b[0m     vocab_size\u001b[39m=\u001b[39;49margs\u001b[39m.\u001b[39;49mvocab_size\n\u001b[1;32m     <a href='vscode-notebook-cell://ssh-remote%2Baistage/opt/ml/input/test.ipynb#W6sdnNjb2RlLXJlbW90ZQ%3D%3D?line=22'>23</a>\u001b[0m )\n",
      "File \u001b[0;32m/opt/conda/envs/dongyoung/lib/python3.10/site-packages/tokenizers/implementations/bert_wordpiece.py:118\u001b[0m, in \u001b[0;36mBertWordPieceTokenizer.train\u001b[0;34m(self, files, vocab_size, min_frequency, limit_alphabet, initial_alphabet, special_tokens, show_progress, wordpieces_prefix)\u001b[0m\n\u001b[1;32m    116\u001b[0m \u001b[39mif\u001b[39;00m \u001b[39misinstance\u001b[39m(files, \u001b[39mstr\u001b[39m):\n\u001b[1;32m    117\u001b[0m     files \u001b[39m=\u001b[39m [files]\n\u001b[0;32m--> 118\u001b[0m \u001b[39mself\u001b[39;49m\u001b[39m.\u001b[39;49m_tokenizer\u001b[39m.\u001b[39;49mtrain(files, trainer\u001b[39m=\u001b[39;49mtrainer)\n",
      "\u001b[0;31mTypeError\u001b[0m: argument 'files': 'type' object cannot be converted to 'PyString'"
     ]
    }
   ],
   "source": [
    "from tokenizers import BertWordPieceTokenizer\n",
    "import easydict\n",
    "\n",
    "args = easydict.EasyDict({\n",
    "    \"corpus_file\":\"\",\n",
    "    \"vocab_size\":22000,\n",
    "    \"limit_alphabet\":6000\n",
    "})\n",
    "\n",
    "tokenizer = BertWordPieceTokenizer(\n",
    "    vocab=None,\n",
    "    clean_text=True,\n",
    "    handle_chinese_chars=True,\n",
    "    strip_accents=False, # Must be False if cased model\n",
    "    lowercase=False,\n",
    "    wordpieces_prefix=\"##\"\n",
    ")\n",
    "\n",
    "tokenizer.train(\n",
    "    files=[args.corpus_file],\n",
    "    limit_alphabet=args.limit_alphabet,\n",
    "    vocab_size=args.vocab_size\n",
    ")"
   ]
  },
  {
   "cell_type": "code",
   "execution_count": null,
   "metadata": {},
   "outputs": [],
   "source": []
  },
  {
   "cell_type": "code",
   "execution_count": null,
   "metadata": {},
   "outputs": [],
   "source": []
  }
 ],
 "metadata": {
  "kernelspec": {
   "display_name": "Python 3.10.6 ('dongyoung')",
   "language": "python",
   "name": "python3"
  },
  "language_info": {
   "codemirror_mode": {
    "name": "ipython",
    "version": 3
   },
   "file_extension": ".py",
   "mimetype": "text/x-python",
   "name": "python",
   "nbconvert_exporter": "python",
   "pygments_lexer": "ipython3",
   "version": "3.10.6"
  },
  "orig_nbformat": 4,
  "vscode": {
   "interpreter": {
    "hash": "0f003a16f78e953d6c3fb089b790d98e4533a1b4d943e2d8ed222c282940149d"
   }
  }
 },
 "nbformat": 4,
 "nbformat_minor": 2
}
