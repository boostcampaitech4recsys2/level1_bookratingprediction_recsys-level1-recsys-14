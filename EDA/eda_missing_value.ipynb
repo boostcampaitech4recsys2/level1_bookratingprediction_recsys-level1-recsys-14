{
 "cells": [
  {
   "cell_type": "code",
   "execution_count": 1,
   "metadata": {},
   "outputs": [],
   "source": [
    "#import data\n",
    "import pandas as pd\n",
    "import numpy as np\n",
    "import seaborn as sns\n",
    "import matplotlib.pyplot as plt\n",
    "\n",
    "books = pd.read_csv(\"/opt/ml/input/code/data/books.csv\")\n",
    "users = pd.read_csv(\"/opt/ml/input/code/data/users.csv\") # books.drop(['img_url', 'img_path'], axis = 1, inplace = True)\n",
    "isbns = pd.read_csv(\"/opt/ml/input/code/data/isbn_country.csv\")"
   ]
  },
  {
   "cell_type": "markdown",
   "metadata": {},
   "source": [
    "## Users 결측치"
   ]
  },
  {
   "cell_type": "markdown",
   "metadata": {},
   "source": [
    "### Users location 세분화"
   ]
  },
  {
   "cell_type": "code",
   "execution_count": 2,
   "metadata": {
    "slideshow": {
     "slide_type": "slide"
    }
   },
   "outputs": [
    {
     "name": "stderr",
     "output_type": "stream",
     "text": [
      "/tmp/ipykernel_51356/2406416191.py:3: FutureWarning: The default value of regex will change from True to False in a future version.\n",
      "  users['location'] = users['location'].str.replace(r'[^0-9a-zA-Z:,]', '') # 특수문자 제거\n"
     ]
    }
   ],
   "source": [
    "# users 결측치\n",
    "### location 세분화 -> city, state, county 로\n",
    "users['location'] = users['location'].str.replace(r'[^0-9a-zA-Z:,]', '') # 특수문자 제거\n",
    "\n",
    "users['location_city'] = users['location'].apply(lambda x: x.split(',')[0].strip())\n",
    "users['location_state'] = users['location'].apply(lambda x: x.split(',')[1].strip())\n",
    "users['location_country'] = users['location'].apply(lambda x: x.split(',')[2].strip())\n",
    "\n",
    "users = users.replace('na', np.nan) #특수문자 제거로 n/a가 na로 바뀌게 되었습니다. 따라서 이를 컴퓨터가 인식할 수 있는 결측값으로 변환합니다.\n",
    "users = users.replace('', np.nan) # 일부 경우 , , ,으로 입력된 경우가 있었으므로 이런 경우에도 결측값으로 변환합니다.\n",
    "###"
   ]
  },
  {
   "cell_type": "markdown",
   "metadata": {},
   "source": [
    "### Users location city만 있는 경우 처리"
   ]
  },
  {
   "cell_type": "code",
   "execution_count": 3,
   "metadata": {},
   "outputs": [],
   "source": [
    "# users 결측치\n",
    "### city값이 존재하는데, country 정보가 없는 경우 처리\n",
    "modify_location = users[(users['location_country'].isna())&(users['location_city'].notnull())]['location_city'].values\n",
    "location = users[(users['location'].str.contains('seattle'))&(users['location_country'].notnull())]['location'].value_counts().index[0]\n",
    "\n",
    "location_list = []\n",
    "for location in modify_location:\n",
    "    try:\n",
    "        right_location = users[(users['location'].str.contains(location))&(users['location_country'].notnull())]['location'].value_counts().index[0]\n",
    "        location_list.append(right_location)\n",
    "    except:\n",
    "        pass\n",
    "    \n",
    "for location in location_list:\n",
    "    users.loc[users[users['location_city']==location.split(',')[0]].index,'location_state'] = location.split(',')[1]\n",
    "    users.loc[users[users['location_city']==location.split(',')[0]].index,'location_country'] = location.split(',')[2]"
   ]
  },
  {
   "cell_type": "code",
   "execution_count": 4,
   "metadata": {},
   "outputs": [
    {
     "data": {
      "text/plain": [
       "user_id                 0\n",
       "location                0\n",
       "age                 27833\n",
       "location_city         122\n",
       "location_state       1132\n",
       "location_country      271\n",
       "dtype: int64"
      ]
     },
     "execution_count": 4,
     "metadata": {},
     "output_type": "execute_result"
    }
   ],
   "source": [
    "users.isna().sum()"
   ]
  },
  {
   "cell_type": "markdown",
   "metadata": {},
   "source": [
    "### User age 처리"
   ]
  },
  {
   "cell_type": "code",
   "execution_count": 5,
   "metadata": {},
   "outputs": [],
   "source": [
    "# user의 age를 평균으로 채움\n",
    "users.age = users.age.fillna(users.age.mean())"
   ]
  },
  {
   "cell_type": "code",
   "execution_count": 6,
   "metadata": {},
   "outputs": [
    {
     "data": {
      "text/plain": [
       "user_id                0\n",
       "location               0\n",
       "age                    0\n",
       "location_city        122\n",
       "location_state      1132\n",
       "location_country     271\n",
       "dtype: int64"
      ]
     },
     "execution_count": 6,
     "metadata": {},
     "output_type": "execute_result"
    }
   ],
   "source": [
    "users.isna().sum()"
   ]
  },
  {
   "cell_type": "code",
   "execution_count": 7,
   "metadata": {},
   "outputs": [],
   "source": [
    "# location에서 결측값은 'na' 문자열로 채움\n",
    "users['location_city'].fillna('na', inplace=True)\n",
    "users['location_state'].fillna('na', inplace=True)\n",
    "users['location_country'].fillna('na', inplace=True)"
   ]
  },
  {
   "cell_type": "code",
   "execution_count": 10,
   "metadata": {},
   "outputs": [
    {
     "data": {
      "text/plain": [
       "user_id             0\n",
       "location            0\n",
       "age                 0\n",
       "location_city       0\n",
       "location_state      0\n",
       "location_country    0\n",
       "dtype: int64"
      ]
     },
     "execution_count": 10,
     "metadata": {},
     "output_type": "execute_result"
    }
   ],
   "source": [
    "users.isna().sum()"
   ]
  },
  {
   "cell_type": "markdown",
   "metadata": {},
   "source": [
    "# Books 결측치"
   ]
  },
  {
   "cell_type": "code",
   "execution_count": 11,
   "metadata": {},
   "outputs": [
    {
     "data": {
      "text/html": [
       "<div>\n",
       "<style scoped>\n",
       "    .dataframe tbody tr th:only-of-type {\n",
       "        vertical-align: middle;\n",
       "    }\n",
       "\n",
       "    .dataframe tbody tr th {\n",
       "        vertical-align: top;\n",
       "    }\n",
       "\n",
       "    .dataframe thead th {\n",
       "        text-align: right;\n",
       "    }\n",
       "</style>\n",
       "<table border=\"1\" class=\"dataframe\">\n",
       "  <thead>\n",
       "    <tr style=\"text-align: right;\">\n",
       "      <th></th>\n",
       "      <th>isbn</th>\n",
       "      <th>book_title</th>\n",
       "      <th>book_author</th>\n",
       "      <th>year_of_publication</th>\n",
       "      <th>publisher</th>\n",
       "      <th>img_url</th>\n",
       "      <th>language</th>\n",
       "      <th>category</th>\n",
       "      <th>summary</th>\n",
       "      <th>img_path</th>\n",
       "    </tr>\n",
       "  </thead>\n",
       "  <tbody>\n",
       "  </tbody>\n",
       "</table>\n",
       "</div>"
      ],
      "text/plain": [
       "Empty DataFrame\n",
       "Columns: [isbn, book_title, book_author, year_of_publication, publisher, img_url, language, category, summary, img_path]\n",
       "Index: []"
      ]
     },
     "execution_count": 11,
     "metadata": {},
     "output_type": "execute_result"
    }
   ],
   "source": [
    "# 잘못된 isbn 확인\n",
    "books[books['isbn'] != books['img_url'].apply(lambda x: x.split('P/')[1][:10])]"
   ]
  },
  {
   "cell_type": "code",
   "execution_count": 12,
   "metadata": {},
   "outputs": [
    {
     "data": {
      "text/html": [
       "<div>\n",
       "<style scoped>\n",
       "    .dataframe tbody tr th:only-of-type {\n",
       "        vertical-align: middle;\n",
       "    }\n",
       "\n",
       "    .dataframe tbody tr th {\n",
       "        vertical-align: top;\n",
       "    }\n",
       "\n",
       "    .dataframe thead th {\n",
       "        text-align: right;\n",
       "    }\n",
       "</style>\n",
       "<table border=\"1\" class=\"dataframe\">\n",
       "  <thead>\n",
       "    <tr style=\"text-align: right;\">\n",
       "      <th></th>\n",
       "      <th>isbn</th>\n",
       "      <th>book_title</th>\n",
       "      <th>book_author</th>\n",
       "      <th>year_of_publication</th>\n",
       "      <th>publisher</th>\n",
       "      <th>img_url</th>\n",
       "      <th>language</th>\n",
       "      <th>category</th>\n",
       "      <th>summary</th>\n",
       "      <th>img_path</th>\n",
       "    </tr>\n",
       "  </thead>\n",
       "  <tbody>\n",
       "  </tbody>\n",
       "</table>\n",
       "</div>"
      ],
      "text/plain": [
       "Empty DataFrame\n",
       "Columns: [isbn, book_title, book_author, year_of_publication, publisher, img_url, language, category, summary, img_path]\n",
       "Index: []"
      ]
     },
     "execution_count": 12,
     "metadata": {},
     "output_type": "execute_result"
    }
   ],
   "source": [
    "books[books['isbn'] != books['img_path'].apply(lambda x: x.split('.')[0][7:])]"
   ]
  },
  {
   "cell_type": "markdown",
   "metadata": {},
   "source": [
    "### Category 대분류 생성"
   ]
  },
  {
   "cell_type": "code",
   "execution_count": 13,
   "metadata": {},
   "outputs": [],
   "source": [
    "# category 대분류\n",
    "\n",
    "import re\n",
    "books.loc[books[books['category'].notnull()].index, 'category'] = books[books['category'].notnull()]['category'].apply(lambda x: re.sub('[\\W_]+',' ',x).strip())\n",
    "books['category'] = books['category'].str.lower()\n",
    "\n",
    "books['category_low'] = books['category'].copy()\n",
    "\n",
    "category_high_df = pd.DataFrame(books['category'].value_counts()).reset_index()\n",
    "category_high_df.columns = ['category', 'count']\n",
    "\n",
    "other_list = category_high_df[category_high_df['count'] < 5]['category']\n",
    "books.loc[books[books['category'].isin(other_list)].index, 'category'] = 'others'\n",
    "\n",
    "books.loc[books[books['category']=='biography'].index, 'category'] = 'biography autobiography'\n",
    "books.loc[books[books['category']=='autobiography'].index,'category'] = 'biography autobiography'\n",
    "\n",
    "categories = ['history', 'fiction', 'garden','crafts','physics','adventure','music','fiction','nonfiction','science','science fiction','social','homicide',\n",
    " 'sociology','disease','religion','christian','philosophy','psycholog','mathemat','agricult','environmental',\n",
    " 'business','poetry','drama','literary','travel','motion picture','children','cook','literature','electronic',\n",
    " 'humor','animal','bird','photograph','computer','house','ecology','family','architect','camp','criminal','language','india']\n",
    "\n",
    "for category in categories:\n",
    "    books.loc[books[books['category'].str.contains(category,na=False)].index,'category'] = category"
   ]
  },
  {
   "cell_type": "markdown",
   "metadata": {},
   "source": [
    "### 데이터 중 특수문자(\\&#39;, 문자('\\n')을 공백(' ') 전처리)"
   ]
  },
  {
   "cell_type": "code",
   "execution_count": 14,
   "metadata": {},
   "outputs": [],
   "source": [
    "# summary에 특수문자가 &#39;로 표시된 경우 처리\n",
    "# 개행 문자('\\n')을 공백(' ')으로 변경\n",
    "summary_ = pd.DataFrame(books[['book_title','summary']])\n",
    "\n",
    "dic = {\n",
    "    \"&quot;\" : '\"',\n",
    "    \"&amp;\" : \"&\",\n",
    "    \"&lt;\" : \"<\",\n",
    "    \"&gt;\" : '>',\n",
    "    \"&#34;\" : '\"',\n",
    "    '&#39;' : \"'\"\n",
    "}\n",
    "\n",
    "for k, v in dic.items():\n",
    "    summary_['summary'] = summary_['summary'].str.replace(k,v, regex=True)\n",
    "summary_['summary'] = summary_['summary'].str.replace('\\n', ' ')\n",
    "books['summary'] = summary_['summary']"
   ]
  },
  {
   "cell_type": "markdown",
   "metadata": {},
   "source": [
    "### book_author 공백 없이 보게 전처리"
   ]
  },
  {
   "cell_type": "code",
   "execution_count": 15,
   "metadata": {},
   "outputs": [],
   "source": [
    "# book_author 모두 소문자 -> 공백 제거 후 모두 이어붙임\n",
    "book_author = books['book_author'].str.lower()\n",
    "books['book_author'] = book_author.map(lambda x: \"\".join(x.split()))\n",
    "# books['book_author'].value_counts()"
   ]
  },
  {
   "cell_type": "markdown",
   "metadata": {},
   "source": [
    "### publisher isbn 기준으로 중복처리"
   ]
  },
  {
   "cell_type": "code",
   "execution_count": 16,
   "metadata": {},
   "outputs": [
    {
     "data": {
      "text/plain": [
       "11571"
      ]
     },
     "execution_count": 16,
     "metadata": {},
     "output_type": "execute_result"
    }
   ],
   "source": [
    "# 같은 출판사인데 이름이 다른 경우 처리 (예. a_book, a_audio)\n",
    "publisher_dict=(books['publisher'].value_counts()).to_dict()\n",
    "publisher_count_df= pd.DataFrame(list(publisher_dict.items()),columns = ['publisher','count'])\n",
    "\n",
    "publisher_count_df = publisher_count_df.sort_values(by=['count'], ascending = False)\n",
    "books['publisher'].nunique() # 수정전 항목 수를 확인\n",
    "books[books['isbn'].apply(lambda x: x[:4])=='0140']['publisher'].unique()\n",
    "modify_list = publisher_count_df[publisher_count_df['count']>1].publisher.values\n",
    "books['publisher'].nunique() #수정 후 출판사 개수"
   ]
  },
  {
   "cell_type": "markdown",
   "metadata": {},
   "source": [
    "### 작가가 썼던 책을 기준으로 language 채우기"
   ]
  },
  {
   "cell_type": "code",
   "execution_count": 17,
   "metadata": {},
   "outputs": [
    {
     "name": "stdout",
     "output_type": "stream",
     "text": [
      "isbn                       0\n",
      "book_title                 0\n",
      "book_author                0\n",
      "year_of_publication        0\n",
      "publisher                  0\n",
      "img_url                    0\n",
      "language               25349\n",
      "category               68851\n",
      "summary                67227\n",
      "img_path                   0\n",
      "category_low           68851\n",
      "dtype: int64\n"
     ]
    }
   ],
   "source": [
    "# language 결측치 채우기\n",
    "# 작가가 쓴 책을 찾아서 language 채우기 (한 작가는 같은 언어로 책을 쓴다고 가정)\n",
    "look_up_df = books[books.language.notnull()].drop_duplicates(['book_author'])\n",
    "look_up_df = look_up_df.set_index('book_author')['language']\n",
    "books['language'] = books['language'].fillna(books['book_author'].map(look_up_df))\n",
    "books=books.reset_index(drop=True)\n",
    "books.isna().sum()\n"
   ]
  },
  {
   "cell_type": "markdown",
   "metadata": {},
   "source": [
    "#### 책제목과 작가가 같으면 같은 책이므로 language가 있는 다른 index에서 language를 가져옴."
   ]
  },
  {
   "cell_type": "code",
   "execution_count": 20,
   "metadata": {},
   "outputs": [],
   "source": [
    "# category&summary 결측치 채우기\n",
    "# 책제목과 작가가 같으면 같은 책이므로 language가 있는 다른 index에서 language를 가져옴.\n",
    "\n",
    "def new_func(idx_n):\n",
    "    return books.book_title.isin([books.iloc[idx_n].book_title]) & books.book_author.isin([books.iloc[idx_n].book_author])\n",
    "\n",
    "for idx_n in books[books.category.isna()].index:\n",
    "    # print(idx_n)\n",
    "    books[new_func(idx_n)].ffill().bfill()\n",
    "    books[new_func(idx_n)] = books[new_func(idx_n)].ffill().bfill()"
   ]
  },
  {
   "cell_type": "code",
   "execution_count": 23,
   "metadata": {},
   "outputs": [
    {
     "data": {
      "text/html": [
       "<div>\n",
       "<style scoped>\n",
       "    .dataframe tbody tr th:only-of-type {\n",
       "        vertical-align: middle;\n",
       "    }\n",
       "\n",
       "    .dataframe tbody tr th {\n",
       "        vertical-align: top;\n",
       "    }\n",
       "\n",
       "    .dataframe thead th {\n",
       "        text-align: right;\n",
       "    }\n",
       "</style>\n",
       "<table border=\"1\" class=\"dataframe\">\n",
       "  <thead>\n",
       "    <tr style=\"text-align: right;\">\n",
       "      <th></th>\n",
       "      <th>isbn</th>\n",
       "      <th>book_title</th>\n",
       "      <th>book_author</th>\n",
       "      <th>year_of_publication</th>\n",
       "      <th>publisher</th>\n",
       "      <th>img_url</th>\n",
       "      <th>language</th>\n",
       "      <th>category</th>\n",
       "      <th>summary</th>\n",
       "      <th>img_path</th>\n",
       "      <th>category_low</th>\n",
       "    </tr>\n",
       "  </thead>\n",
       "  <tbody>\n",
       "    <tr>\n",
       "      <th>25</th>\n",
       "      <td>0312978383</td>\n",
       "      <td>Winter Solstice</td>\n",
       "      <td>rosamundepilcher</td>\n",
       "      <td>2001.0</td>\n",
       "      <td>St. Martin's Paperbacks</td>\n",
       "      <td>http://images.amazon.com/images/P/0312978383.0...</td>\n",
       "      <td>en</td>\n",
       "      <td>NaN</td>\n",
       "      <td>NaN</td>\n",
       "      <td>images/0312978383.01.THUMBZZZ.jpg</td>\n",
       "      <td>NaN</td>\n",
       "    </tr>\n",
       "    <tr>\n",
       "      <th>7264</th>\n",
       "      <td>0312244266</td>\n",
       "      <td>Winter Solstice</td>\n",
       "      <td>rosamundepilcher</td>\n",
       "      <td>2000.0</td>\n",
       "      <td>Thomas Dunne Books</td>\n",
       "      <td>http://images.amazon.com/images/P/0312244266.0...</td>\n",
       "      <td>en</td>\n",
       "      <td>fiction</td>\n",
       "      <td>Five people buffeted by life's difficulties co...</td>\n",
       "      <td>images/0312244266.01.THUMBZZZ.jpg</td>\n",
       "      <td>fiction</td>\n",
       "    </tr>\n",
       "    <tr>\n",
       "      <th>79374</th>\n",
       "      <td>B00009NDAN</td>\n",
       "      <td>Winter Solstice</td>\n",
       "      <td>rosamundepilcher</td>\n",
       "      <td>2000.0</td>\n",
       "      <td>St. Martin's Press</td>\n",
       "      <td>http://images.amazon.com/images/P/B00009NDAN.0...</td>\n",
       "      <td>en</td>\n",
       "      <td>NaN</td>\n",
       "      <td>NaN</td>\n",
       "      <td>images/B00009NDAN.01.THUMBZZZ.jpg</td>\n",
       "      <td>NaN</td>\n",
       "    </tr>\n",
       "  </tbody>\n",
       "</table>\n",
       "</div>"
      ],
      "text/plain": [
       "             isbn       book_title       book_author  year_of_publication  \\\n",
       "25     0312978383  Winter Solstice  rosamundepilcher               2001.0   \n",
       "7264   0312244266  Winter Solstice  rosamundepilcher               2000.0   \n",
       "79374  B00009NDAN  Winter Solstice  rosamundepilcher               2000.0   \n",
       "\n",
       "                     publisher  \\\n",
       "25     St. Martin's Paperbacks   \n",
       "7264        Thomas Dunne Books   \n",
       "79374       St. Martin's Press   \n",
       "\n",
       "                                                 img_url language category  \\\n",
       "25     http://images.amazon.com/images/P/0312978383.0...       en      NaN   \n",
       "7264   http://images.amazon.com/images/P/0312244266.0...       en  fiction   \n",
       "79374  http://images.amazon.com/images/P/B00009NDAN.0...       en      NaN   \n",
       "\n",
       "                                                 summary  \\\n",
       "25                                                   NaN   \n",
       "7264   Five people buffeted by life's difficulties co...   \n",
       "79374                                                NaN   \n",
       "\n",
       "                                img_path category_low  \n",
       "25     images/0312978383.01.THUMBZZZ.jpg          NaN  \n",
       "7264   images/0312244266.01.THUMBZZZ.jpg      fiction  \n",
       "79374  images/B00009NDAN.01.THUMBZZZ.jpg          NaN  "
      ]
     },
     "execution_count": 23,
     "metadata": {},
     "output_type": "execute_result"
    }
   ],
   "source": [
    "# 확인\n",
    "books[books.book_title.isin([books.iloc[25].book_title]) & books.book_author.isin([books.iloc[25].book_author])]"
   ]
  },
  {
   "cell_type": "markdown",
   "metadata": {},
   "source": [
    "### Category 결측값 fiction으로 채우기"
   ]
  },
  {
   "cell_type": "code",
   "execution_count": 24,
   "metadata": {},
   "outputs": [],
   "source": [
    "# books['category'] 결측치\n",
    "## fiction이 카테고리 50프로 이상이므로 결측치를 fiction으로 채움\n",
    "books['category'] = books['category'].fillna('fiction')"
   ]
  },
  {
   "cell_type": "code",
   "execution_count": 25,
   "metadata": {},
   "outputs": [
    {
     "data": {
      "text/plain": [
       "isbn                       0\n",
       "book_title                 0\n",
       "book_author                0\n",
       "year_of_publication        0\n",
       "publisher                  0\n",
       "img_url                    0\n",
       "language               25349\n",
       "category                   0\n",
       "summary                67227\n",
       "img_path                   0\n",
       "category_low           68851\n",
       "dtype: int64"
      ]
     },
     "execution_count": 25,
     "metadata": {},
     "output_type": "execute_result"
    }
   ],
   "source": [
    "books.isna().sum()"
   ]
  },
  {
   "cell_type": "markdown",
   "metadata": {},
   "source": [
    "### isbn 이용해 country 채우기"
   ]
  },
  {
   "cell_type": "code",
   "execution_count": 26,
   "metadata": {},
   "outputs": [],
   "source": [
    "for i in range(len(isbns)):\n",
    "    books.loc[books[\"isbn\"].str.startswith(str(isbns.iloc[i][0])), \"country\"] = isbns.iloc[i][1]"
   ]
  },
  {
   "cell_type": "code",
   "execution_count": 27,
   "metadata": {},
   "outputs": [],
   "source": [
    "# isbn으로 나라 못찾는 경우는 제거\n",
    "books = books[~(books.country.isna())]\n",
    "books.country.dropna(inplace=True)"
   ]
  },
  {
   "cell_type": "markdown",
   "metadata": {},
   "source": [
    "### language 채우기"
   ]
  },
  {
   "cell_type": "code",
   "execution_count": 29,
   "metadata": {},
   "outputs": [
    {
     "data": {
      "text/plain": [
       "en       95.156952\n",
       "de        1.741049\n",
       "es        1.454364\n",
       "fr        1.178147\n",
       "it        0.201324\n",
       "nl        0.095830\n",
       "da        0.053150\n",
       "pt        0.042681\n",
       "ca        0.033017\n",
       "ms        0.008858\n",
       "la        0.008053\n",
       "no        0.004832\n",
       "gl        0.004026\n",
       "zh-CN     0.003221\n",
       "ja        0.003221\n",
       "ru        0.002416\n",
       "eo        0.001611\n",
       "th        0.000805\n",
       "el        0.000805\n",
       "ro        0.000805\n",
       "fa        0.000805\n",
       "gd        0.000805\n",
       "ga        0.000805\n",
       "vi        0.000805\n",
       "zh-TW     0.000805\n",
       "ko        0.000805\n",
       "Name: language, dtype: float64"
      ]
     },
     "execution_count": 29,
     "metadata": {},
     "output_type": "execute_result"
    }
   ],
   "source": [
    "books['language'].value_counts() * 100 / len(books[~books['language'].isna()])\n",
    "# ca: 캐나다식 영어"
   ]
  },
  {
   "cell_type": "code",
   "execution_count": 30,
   "metadata": {},
   "outputs": [
    {
     "data": {
      "text/plain": [
       "26"
      ]
     },
     "execution_count": 30,
     "metadata": {},
     "output_type": "execute_result"
    }
   ],
   "source": [
    "len(books['language'].value_counts())"
   ]
  },
  {
   "cell_type": "code",
   "execution_count": 31,
   "metadata": {},
   "outputs": [
    {
     "data": {
      "text/plain": [
       "isbn                       0\n",
       "book_title                 0\n",
       "book_author                0\n",
       "year_of_publication        0\n",
       "publisher                  0\n",
       "img_url                    0\n",
       "language               25343\n",
       "category                   0\n",
       "summary                67179\n",
       "img_path                   0\n",
       "category_low           68803\n",
       "country                    0\n",
       "dtype: int64"
      ]
     },
     "execution_count": 31,
     "metadata": {},
     "output_type": "execute_result"
    }
   ],
   "source": [
    "books.isna().sum()"
   ]
  },
  {
   "cell_type": "code",
   "execution_count": 32,
   "metadata": {},
   "outputs": [
    {
     "data": {
      "text/html": [
       "<div>\n",
       "<style scoped>\n",
       "    .dataframe tbody tr th:only-of-type {\n",
       "        vertical-align: middle;\n",
       "    }\n",
       "\n",
       "    .dataframe tbody tr th {\n",
       "        vertical-align: top;\n",
       "    }\n",
       "\n",
       "    .dataframe thead th {\n",
       "        text-align: right;\n",
       "    }\n",
       "</style>\n",
       "<table border=\"1\" class=\"dataframe\">\n",
       "  <thead>\n",
       "    <tr style=\"text-align: right;\">\n",
       "      <th></th>\n",
       "      <th>country</th>\n",
       "    </tr>\n",
       "  </thead>\n",
       "  <tbody>\n",
       "    <tr>\n",
       "      <th>English</th>\n",
       "      <td>89.890383</td>\n",
       "    </tr>\n",
       "    <tr>\n",
       "      <th>German</th>\n",
       "      <td>4.484989</td>\n",
       "    </tr>\n",
       "    <tr>\n",
       "      <th>French</th>\n",
       "      <td>2.277272</td>\n",
       "    </tr>\n",
       "    <tr>\n",
       "      <th>Spain</th>\n",
       "      <td>2.273259</td>\n",
       "    </tr>\n",
       "    <tr>\n",
       "      <th>Italian</th>\n",
       "      <td>0.322363</td>\n",
       "    </tr>\n",
       "  </tbody>\n",
       "</table>\n",
       "</div>"
      ],
      "text/plain": [
       "            country\n",
       " English  89.890383\n",
       " German    4.484989\n",
       " French    2.277272\n",
       " Spain     2.273259\n",
       " Italian   0.322363"
      ]
     },
     "execution_count": 32,
     "metadata": {},
     "output_type": "execute_result"
    }
   ],
   "source": [
    "pd.DataFrame(books['country'].value_counts()*100/len(books)).head()"
   ]
  },
  {
   "cell_type": "code",
   "execution_count": 34,
   "metadata": {},
   "outputs": [],
   "source": [
    "# 영어권 국가에서 발행된 책은 language를 1로, 나머지는 0으로 채움\n",
    "books['language'] = books['country'].apply(lambda count: 1 if count.strip() == 'English' else 0)"
   ]
  },
  {
   "cell_type": "code",
   "execution_count": 35,
   "metadata": {},
   "outputs": [
    {
     "data": {
      "text/plain": [
       "89.89038329064145"
      ]
     },
     "execution_count": 35,
     "metadata": {},
     "output_type": "execute_result"
    }
   ],
   "source": [
    "books['language'].sum() * 100 / len(books)"
   ]
  },
  {
   "cell_type": "code",
   "execution_count": 36,
   "metadata": {},
   "outputs": [
    {
     "data": {
      "text/plain": [
       "isbn                       0\n",
       "book_title                 0\n",
       "book_author                0\n",
       "year_of_publication        0\n",
       "publisher                  0\n",
       "img_url                    0\n",
       "language                   0\n",
       "category                   0\n",
       "summary                67179\n",
       "img_path                   0\n",
       "category_low           68803\n",
       "country                    0\n",
       "dtype: int64"
      ]
     },
     "execution_count": 36,
     "metadata": {},
     "output_type": "execute_result"
    }
   ],
   "source": [
    "books.isna().sum()"
   ]
  },
  {
   "cell_type": "markdown",
   "metadata": {},
   "source": [
    "### summary 채우기"
   ]
  },
  {
   "cell_type": "code",
   "execution_count": 37,
   "metadata": {},
   "outputs": [],
   "source": [
    "# summary는 book_title로 채움\n",
    "books.loc[books['summary'].isna(), \"summary\"] = books.book_title"
   ]
  },
  {
   "cell_type": "code",
   "execution_count": 39,
   "metadata": {},
   "outputs": [],
   "source": [
    "# summary에 특수문자가 &#39;로 표시된 경우 처리\n",
    "# 개행 문자('\\n')을 공백(' ')으로 변경\n",
    "summary_ = pd.DataFrame(books[['book_title','summary']])\n",
    "\n",
    "dic = {\n",
    "    \"&quot;\" : '\"',\n",
    "    \"&amp;\" : \"&\",\n",
    "    \"&lt;\" : \"<\",\n",
    "    \"&gt;\" : '>',\n",
    "    \"&#34;\" : '\"',\n",
    "    '&#39;' : \"'\"\n",
    "}\n",
    "\n",
    "for k, v in dic.items():\n",
    "    summary_['summary'] = summary_['summary'].str.replace(k,v, regex=True)\n",
    "summary_['summary'] = summary_['summary'].str.replace('\\n', ' ')\n",
    "books['summary'] = summary_['summary']"
   ]
  },
  {
   "cell_type": "code",
   "execution_count": 42,
   "metadata": {},
   "outputs": [],
   "source": [
    "books.drop('category_low', axis=1, inplace=True)\n",
    "books.drop('country', axis=1, inplace=True)"
   ]
  },
  {
   "cell_type": "code",
   "execution_count": 50,
   "metadata": {},
   "outputs": [
    {
     "data": {
      "text/plain": [
       "isbn                   0\n",
       "book_title             0\n",
       "book_author            0\n",
       "year_of_publication    0\n",
       "publisher              0\n",
       "img_url                0\n",
       "language               0\n",
       "category               0\n",
       "summary                0\n",
       "img_path               0\n",
       "dtype: int64"
      ]
     },
     "execution_count": 50,
     "metadata": {},
     "output_type": "execute_result"
    }
   ],
   "source": [
    "books.isna().sum()"
   ]
  },
  {
   "cell_type": "code",
   "execution_count": 49,
   "metadata": {},
   "outputs": [],
   "source": [
    "# book_title에 특수문자가 &#39;로 표시된 경우 처리\n",
    "for k, v in dic.items():\n",
    "    summary_['book_title'] = summary_['book_title'].str.replace(k,v, regex=True)\n",
    "summary_['book_title'] = summary_['book_title'].str.replace('\\n', ' ')\n",
    "books['book_title'] = summary_['book_title'].apply(lambda x: x.lower())"
   ]
  },
  {
   "cell_type": "markdown",
   "metadata": {},
   "source": [
    "# csv 파일로 저장"
   ]
  },
  {
   "cell_type": "code",
   "execution_count": 48,
   "metadata": {},
   "outputs": [],
   "source": [
    "users.to_csv('new_users.csv', index=False)\n",
    "books.to_csv('new_books.csv', index=False)"
   ]
  }
 ],
 "metadata": {
  "kernelspec": {
   "display_name": "Python 3.10.7 64-bit",
   "language": "python",
   "name": "python3"
  },
  "language_info": {
   "codemirror_mode": {
    "name": "ipython",
    "version": 3
   },
   "file_extension": ".py",
   "mimetype": "text/x-python",
   "name": "python",
   "nbconvert_exporter": "python",
   "pygments_lexer": "ipython3",
   "version": "3.10.7"
  },
  "orig_nbformat": 4,
  "vscode": {
   "interpreter": {
    "hash": "fb4569285eef3a3450cb62085a5b1e0da4bce0af555edc33dcf29baf3acc1368"
   }
  }
 },
 "nbformat": 4,
 "nbformat_minor": 2
}
