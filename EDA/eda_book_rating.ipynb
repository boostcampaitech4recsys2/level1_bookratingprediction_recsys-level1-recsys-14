{
 "cells": [
  {
   "cell_type": "code",
   "execution_count": 77,
   "metadata": {},
   "outputs": [],
   "source": [
    "import pandas as pd\n",
    "import matplotlib.pyplot as plt\n",
    "import numpy as np"
   ]
  },
  {
   "cell_type": "code",
   "execution_count": 78,
   "metadata": {},
   "outputs": [],
   "source": [
    "ratings = pd.read_csv('/opt/ml/input/code/data/train_ratings.csv')\n",
    "books = pd.read_csv('/opt/ml/input/code/data/books.csv')"
   ]
  },
  {
   "cell_type": "code",
   "execution_count": 79,
   "metadata": {},
   "outputs": [
    {
     "data": {
      "text/html": [
       "<div>\n",
       "<style scoped>\n",
       "    .dataframe tbody tr th:only-of-type {\n",
       "        vertical-align: middle;\n",
       "    }\n",
       "\n",
       "    .dataframe tbody tr th {\n",
       "        vertical-align: top;\n",
       "    }\n",
       "\n",
       "    .dataframe thead th {\n",
       "        text-align: right;\n",
       "    }\n",
       "</style>\n",
       "<table border=\"1\" class=\"dataframe\">\n",
       "  <thead>\n",
       "    <tr style=\"text-align: right;\">\n",
       "      <th></th>\n",
       "      <th>isbn</th>\n",
       "      <th>rating</th>\n",
       "    </tr>\n",
       "  </thead>\n",
       "  <tbody>\n",
       "    <tr>\n",
       "      <th>0</th>\n",
       "      <td>0002005018</td>\n",
       "      <td>4</td>\n",
       "    </tr>\n",
       "    <tr>\n",
       "      <th>1</th>\n",
       "      <td>0002005018</td>\n",
       "      <td>7</td>\n",
       "    </tr>\n",
       "    <tr>\n",
       "      <th>2</th>\n",
       "      <td>0002005018</td>\n",
       "      <td>8</td>\n",
       "    </tr>\n",
       "    <tr>\n",
       "      <th>3</th>\n",
       "      <td>0002005018</td>\n",
       "      <td>8</td>\n",
       "    </tr>\n",
       "    <tr>\n",
       "      <th>4</th>\n",
       "      <td>0002005018</td>\n",
       "      <td>9</td>\n",
       "    </tr>\n",
       "  </tbody>\n",
       "</table>\n",
       "</div>"
      ],
      "text/plain": [
       "         isbn  rating\n",
       "0  0002005018       4\n",
       "1  0002005018       7\n",
       "2  0002005018       8\n",
       "3  0002005018       8\n",
       "4  0002005018       9"
      ]
     },
     "execution_count": 79,
     "metadata": {},
     "output_type": "execute_result"
    }
   ],
   "source": [
    "ratings = ratings[['isbn', 'rating']]"
   ]
  },
  {
   "cell_type": "markdown",
   "metadata": {},
   "source": [
    "### 각 도서의 Rating 평균 구하기"
   ]
  },
  {
   "cell_type": "code",
   "execution_count": 80,
   "metadata": {},
   "outputs": [],
   "source": [
    "ratings = ratings.groupby(ratings['isbn']).mean()"
   ]
  },
  {
   "cell_type": "markdown",
   "metadata": {},
   "source": [
    "### ratings와 books를 merge하여 isbn에 대응하는 책 제목 추출"
   ]
  },
  {
   "cell_type": "code",
   "execution_count": 81,
   "metadata": {},
   "outputs": [],
   "source": [
    "ratings_book = ratings.merge(books, how='left', on='isbn')"
   ]
  },
  {
   "cell_type": "code",
   "execution_count": 83,
   "metadata": {},
   "outputs": [],
   "source": [
    "ratings_book = ratings_book[['isbn', 'book_title', 'rating']]"
   ]
  },
  {
   "cell_type": "code",
   "execution_count": 84,
   "metadata": {},
   "outputs": [
    {
     "data": {
      "text/html": [
       "<div>\n",
       "<style scoped>\n",
       "    .dataframe tbody tr th:only-of-type {\n",
       "        vertical-align: middle;\n",
       "    }\n",
       "\n",
       "    .dataframe tbody tr th {\n",
       "        vertical-align: top;\n",
       "    }\n",
       "\n",
       "    .dataframe thead th {\n",
       "        text-align: right;\n",
       "    }\n",
       "</style>\n",
       "<table border=\"1\" class=\"dataframe\">\n",
       "  <thead>\n",
       "    <tr style=\"text-align: right;\">\n",
       "      <th></th>\n",
       "      <th>isbn</th>\n",
       "      <th>rating</th>\n",
       "      <th>book_title</th>\n",
       "    </tr>\n",
       "  </thead>\n",
       "  <tbody>\n",
       "    <tr>\n",
       "      <th>0</th>\n",
       "      <td>0000913154</td>\n",
       "      <td>8.0</td>\n",
       "      <td>The Way Things Work: An Illustrated Encycloped...</td>\n",
       "    </tr>\n",
       "    <tr>\n",
       "      <th>1</th>\n",
       "      <td>000104687X</td>\n",
       "      <td>6.0</td>\n",
       "      <td>T.S. Eliot Reading \\The Wasteland\\\" and Other ...</td>\n",
       "    </tr>\n",
       "    <tr>\n",
       "      <th>2</th>\n",
       "      <td>0001047213</td>\n",
       "      <td>8.0</td>\n",
       "      <td>The Fighting Man</td>\n",
       "    </tr>\n",
       "    <tr>\n",
       "      <th>3</th>\n",
       "      <td>0001047973</td>\n",
       "      <td>9.0</td>\n",
       "      <td>Brave New World</td>\n",
       "    </tr>\n",
       "    <tr>\n",
       "      <th>4</th>\n",
       "      <td>000104799X</td>\n",
       "      <td>6.0</td>\n",
       "      <td>Monk's-hood</td>\n",
       "    </tr>\n",
       "    <tr>\n",
       "      <th>...</th>\n",
       "      <td>...</td>\n",
       "      <td>...</td>\n",
       "      <td>...</td>\n",
       "    </tr>\n",
       "    <tr>\n",
       "      <th>129772</th>\n",
       "      <td>B0001FZGBC</td>\n",
       "      <td>7.0</td>\n",
       "      <td>In Her Shoes : A Novel</td>\n",
       "    </tr>\n",
       "    <tr>\n",
       "      <th>129773</th>\n",
       "      <td>B0001FZGPI</td>\n",
       "      <td>6.0</td>\n",
       "      <td>The Bonesetter's Daughter</td>\n",
       "    </tr>\n",
       "    <tr>\n",
       "      <th>129774</th>\n",
       "      <td>B0001FZGRQ</td>\n",
       "      <td>9.0</td>\n",
       "      <td>The Clan of the Cave Bear</td>\n",
       "    </tr>\n",
       "    <tr>\n",
       "      <th>129775</th>\n",
       "      <td>B0001GMSV2</td>\n",
       "      <td>8.0</td>\n",
       "      <td>Find Me</td>\n",
       "    </tr>\n",
       "    <tr>\n",
       "      <th>129776</th>\n",
       "      <td>B000234N3A</td>\n",
       "      <td>9.0</td>\n",
       "      <td>Fraud</td>\n",
       "    </tr>\n",
       "  </tbody>\n",
       "</table>\n",
       "<p>129777 rows × 3 columns</p>\n",
       "</div>"
      ],
      "text/plain": [
       "              isbn  rating                                         book_title\n",
       "0       0000913154     8.0  The Way Things Work: An Illustrated Encycloped...\n",
       "1       000104687X     6.0  T.S. Eliot Reading \\The Wasteland\\\" and Other ...\n",
       "2       0001047213     8.0                                   The Fighting Man\n",
       "3       0001047973     9.0                                    Brave New World\n",
       "4       000104799X     6.0                                        Monk's-hood\n",
       "...            ...     ...                                                ...\n",
       "129772  B0001FZGBC     7.0                             In Her Shoes : A Novel\n",
       "129773  B0001FZGPI     6.0                          The Bonesetter's Daughter\n",
       "129774  B0001FZGRQ     9.0                          The Clan of the Cave Bear\n",
       "129775  B0001GMSV2     8.0                                            Find Me\n",
       "129776  B000234N3A     9.0                                              Fraud\n",
       "\n",
       "[129777 rows x 3 columns]"
      ]
     },
     "execution_count": 84,
     "metadata": {},
     "output_type": "execute_result"
    }
   ],
   "source": [
    "ratings_book"
   ]
  }
 ],
 "metadata": {
  "kernelspec": {
   "display_name": "Python 3.8.5 ('base')",
   "language": "python",
   "name": "python3"
  },
  "language_info": {
   "codemirror_mode": {
    "name": "ipython",
    "version": 3
   },
   "file_extension": ".py",
   "mimetype": "text/x-python",
   "name": "python",
   "nbconvert_exporter": "python",
   "pygments_lexer": "ipython3",
   "version": "3.8.5"
  },
  "orig_nbformat": 4,
  "vscode": {
   "interpreter": {
    "hash": "d4d1e4263499bec80672ea0156c357c1ee493ec2b1c70f0acce89fc37c4a6abe"
   }
  }
 },
 "nbformat": 4,
 "nbformat_minor": 2
}
